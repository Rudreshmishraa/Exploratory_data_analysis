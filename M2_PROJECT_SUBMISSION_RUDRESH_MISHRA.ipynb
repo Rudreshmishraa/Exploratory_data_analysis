{
  "nbformat": 4,
  "nbformat_minor": 0,
  "metadata": {
    "colab": {
      "private_outputs": true,
      "provenance": [],
      "collapsed_sections": [
        "vncDsAP0Gaoa",
        "FJNUwmbgGyua",
        "w6K7xa23Elo4",
        "yQaldy8SH6Dl",
        "PH-0ReGfmX4f",
        "mDgbUHAGgjLW",
        "O_i_v8NEhb9l",
        "HhfV-JJviCcP",
        "Y3lxredqlCYt",
        "3RnN4peoiCZX",
        "x71ZqKXriCWQ",
        "7hBIi_osiCS2",
        "JlHwYmJAmNHm",
        "PoPl-ycgm1ru",
        "nA9Y7ga8ng1Z",
        "PBTbrJXOngz2",
        "u3PMJOP6ngxN",
        "dauF4eBmngu3",
        "bKJF3rekwFvQ",
        "MSa1f5Uengrz",
        "GF8Ens_Soomf",
        "0wOQAZs5pc--",
        "K5QZ13OEpz2H",
        "lQ7QKXXCp7Bj",
        "448CDAPjqfQr",
        "KSlN3yHqYklG",
        "t6dVpIINYklI",
        "ijmpgYnKYklI",
        "-JiQyfWJYklI",
        "EM7whBJCYoAo",
        "fge-S5ZAYoAp",
        "85gYPyotYoAp",
        "RoGjAbkUYoAp",
        "4Of9eVA-YrdM",
        "iky9q4vBYrdO",
        "F6T5p64dYrdO",
        "y-Ehk30pYrdP",
        "bamQiAODYuh1",
        "QHF8YVU7Yuh3",
        "GwzvFGzlYuh3",
        "qYpmQ266Yuh3",
        "OH-pJp9IphqM",
        "bbFf2-_FphqN",
        "_ouA3fa0phqN",
        "Seke61FWphqN",
        "PIIx-8_IphqN",
        "t27r6nlMphqO",
        "r2jJGEOYphqO",
        "b0JNsNcRphqO",
        "BZR9WyysphqO",
        "jj7wYXLtphqO",
        "eZrbJ2SmphqO",
        "rFu4xreNphqO",
        "YJ55k-q6phqO",
        "gCFgpxoyphqP",
        "OVtJsKN_phqQ",
        "lssrdh5qphqQ",
        "U2RJ9gkRphqQ",
        "1M8mcRywphqQ",
        "tgIPom80phqQ",
        "JMzcOPDDphqR",
        "x-EpHcCOp1ci",
        "X_VqEhTip1ck",
        "8zGJKyg5p1ck",
        "PVzmfK_Ep1ck",
        "n3dbpmDWp1ck",
        "ylSl6qgtp1ck",
        "ZWILFDl5p1ck",
        "M7G43BXep1ck",
        "Ag9LCva-p1cl",
        "E6MkPsBcp1cl",
        "2cELzS2fp1cl",
        "3MPXvC8up1cl",
        "NC_X3p0fY2L0",
        "UV0SzAkaZNRQ",
        "YPEH6qLeZNRQ",
        "q29F0dvdveiT",
        "EXh0U9oCveiU",
        "22aHeOlLveiV",
        "JcMwzZxoAimU",
        "8G2x9gOozGDZ",
        "gCX9965dhzqZ",
        "gIfDvo9L0UH2"
      ],
      "include_colab_link": true
    },
    "kernelspec": {
      "name": "python3",
      "display_name": "Python 3"
    },
    "language_info": {
      "name": "python"
    }
  },
  "cells": [
    {
      "cell_type": "markdown",
      "metadata": {
        "id": "view-in-github",
        "colab_type": "text"
      },
      "source": [
        "<a href=\"https://colab.research.google.com/github/Rudreshmishraa/Exploratory_data_analysis/blob/main/M2_PROJECT_SUBMISSION_RUDRESH_MISHRA.ipynb\" target=\"_parent\"><img src=\"https://colab.research.google.com/assets/colab-badge.svg\" alt=\"Open In Colab\"/></a>"
      ]
    },
    {
      "cell_type": "markdown",
      "source": [
        "# **Project Name**    -\n",
        "\n"
      ],
      "metadata": {
        "id": "vncDsAP0Gaoa"
      }
    },
    {
      "cell_type": "markdown",
      "source": [
        "##### **Project Type**    - EDA/Regression/Classification/Unsupervised\n",
        "##### **Contribution**    - Individual/Team\n",
        "##### **Team Member 1 -**\n",
        "##### **Team Member 2 -**\n",
        "##### **Team Member 3 -**\n",
        "##### **Team Member 4 -**"
      ],
      "metadata": {
        "id": "beRrZCGUAJYm"
      }
    },
    {
      "cell_type": "markdown",
      "source": [
        "# **Project Summary -**"
      ],
      "metadata": {
        "id": "FJNUwmbgGyua"
      }
    },
    {
      "cell_type": "markdown",
      "source": [
        "In the competitive world of the Google Play Store, developers face intense global competition with thousands of new apps launching daily. The revenue model is complex, especially where free apps dominate, making it difficult to gauge the impact of in-app purchases, ads, and subscriptions on success. Consequently, an app's success is often measured by installs and user reviews, with revenue being secondary. User ratings, while important, can be skewed by insufficient votes and discrepancies between ratings and reviews.\n",
        "\n",
        "In this environment, understanding the factors that contribute to an app's success is crucial. Developers need to focus on both user acquisition and retention through quality updates, engaging content, and responsive support. This holistic approach helps attract and maintain a loyal user base, leading to long-term success in\n",
        "\n",
        "This research conducts an extensive analysis of Play Store app data using Python, aiming to identify key factors that drive app engagement and success. By utilizing Python libraries such as NumPy, Pandas, Seaborn, and Matplotlib for data manipulation and visualization, the goal is to derive actionable insights to enhance app performance in the Android market.\n",
        "\n",
        "The project centers on two datasets—the Play Store Dataset and the User Reviews Dataset—that contain a variety of app information. The Play Store dataset, with its 10,841 rows and 13 columns, faces a significant issue with 483 duplicated rows. This redundancy compromises the dataset's integrity and skews analytical results, leading to potentially misleading conclusions.\n",
        "\n",
        "Furthermore, the presence of missing values in essential columns complicates the dataset. The 'Rating' column, critical for app quality assessment, has 13.60% null values, causing ambiguity and impeding accurate evaluations. The 'Type,' 'Content Rating,' 'Current Ver,' and 'Android Ver' columns also suffer from missing values, requiring careful attention to maintain a reliable dataset.\n",
        "\n",
        "The User Reviews dataset, containing 64,295 rows and 5 columns, also presents challenges, particularly with 33,616 duplicated rows. These duplicates create redundancy and can exaggerate the impact of certain reviews, affecting the dataset's representativeness.\n",
        "\n",
        "Data cleaning becomes crucial when dealing with the high percentage of missing values in the 'Translated_Review,' 'Sentiment,' 'Sentiment_Polarity,' and 'Sentiment_Subjectivity' columns. With about 41.78% null values, a significant portion of the dataset is incomplete, necessitating strategic handling to ensure coherent and informative analysis. This process includes identifying non-numeric reviews, converting data types, handling missing values, and eliminating duplicates. Normalization, scaling, and outlier treatment further refine the datasets, setting the stage for meaningful insights.\n",
        "\n",
        "The Exploratory Data Analysis (EDA) phase reveals critical insights, going beyond basic statistical analysis. Visual tools like histograms, pie charts, bar charts, and reg plots offer a detailed understanding of user sentiments, app ratings, genre preferences, and the impact of updates over time. This thorough exploration lays the foundation for strategic decision-making in app development and optimization.\n",
        "\n",
        "The project concludes with strategic recommendations for app developers, emphasizing areas such as genre development, prioritizing free apps, optimizing app size, tailoring content ratings, generating revenue strategically, ensuring compatibility with the latest Android versions, fostering user engagement in popular categories, continuous improvement, and prioritizing positive user sentiment. Addressing negative feedback is also highlighted as a key aspect of app optimization.\n",
        "\n",
        "Beyond the comprehensive analysis, the study underscores the dynamic nature of user sentiment and the evolving landscape of app preferences. The ever-changing dynamics of the Play Store highlight the importance of staying agile and adapting strategies in real-time. Regularly monitoring emerging trends, competitor activities, and user feedback should be integrated into the app development and optimization processes.\n",
        "\n",
        "In summary, the project's deep insights, combined with an adaptive strategy and user-focused approach, position the client to not only optimize their current app portfolio but also to navigate future challenges and seize emerging opportunities in the competitive Android app market. This holistic approach ensures a resilient and sustainable presence, fostering long-term success.\n"
      ],
      "metadata": {
        "id": "F6v_1wHtG2nS"
      }
    },
    {
      "cell_type": "markdown",
      "source": [
        "# **GitHub Link -**"
      ],
      "metadata": {
        "id": "w6K7xa23Elo4"
      }
    },
    {
      "cell_type": "markdown",
      "source": [
        "Provide your GitHub Link here."
      ],
      "metadata": {
        "id": "h1o69JH3Eqqn"
      }
    },
    {
      "cell_type": "markdown",
      "source": [
        "# **Problem Statement**\n"
      ],
      "metadata": {
        "id": "yQaldy8SH6Dl"
      }
    },
    {
      "cell_type": "markdown",
      "source": [
        "The Play Store apps data has enormous potential to drive app-making businesses to success. Actionable insights can be drawn for developers to work on and capture the Android market. Each app (row) has values for category, rating, size, and more. Another dataset contains customer reviews of the android apps. Explore and analyze the data to discover key factors responsible for app engagement and success.\n"
      ],
      "metadata": {
        "id": "DpeJGUA3kjGy"
      }
    },
    {
      "cell_type": "markdown",
      "source": [
        "#### **Define Your Business Objective?**"
      ],
      "metadata": {
        "id": "PH-0ReGfmX4f"
      }
    },
    {
      "cell_type": "markdown",
      "source": [
        "Advanced data analysis can reveal trends and patterns, such as the impact of app size on user ratings, and help prioritize updates based on user feedback. Sentiment analysis of reviews provides insights into user emotions, guiding the creation of more engaging interfaces.\n",
        "\n",
        "Developers must also navigate varying user expectations across regions and demographics. The prevalence of free apps further complicates monetization, requiring a balance between user acquisition and revenue generation. Additionally, app store algorithms favor apps with high engagement metrics, pushing developers to focus on continuous improvement and user satisfaction.\n",
        "\n",
        "Ultimately, leveraging these insights enables developers to refine their strategies, enhance user satisfaction, and achieve sustained success in the competitive Android market. This data-driven approach ensures developers stay ahead by making informed decisions and continuously innovating."
      ],
      "metadata": {
        "id": "PhDvGCAqmjP1"
      }
    },
    {
      "cell_type": "markdown",
      "source": [
        "# **General Guidelines** : -  "
      ],
      "metadata": {
        "id": "mDgbUHAGgjLW"
      }
    },
    {
      "cell_type": "markdown",
      "source": [
        "1.   Well-structured, formatted, and commented code is required.\n",
        "2.   Exception Handling, Production Grade Code & Deployment Ready Code will be a plus. Those students will be awarded some additional credits.\n",
        "     \n",
        "     The additional credits will have advantages over other students during Star Student selection.\n",
        "       \n",
        "             [ Note: - Deployment Ready Code is defined as, the whole .ipynb notebook should be executable in one go\n",
        "                       without a single error logged. ]\n",
        "\n",
        "3.   Each and every logic should have proper comments.\n",
        "4. You may add as many number of charts you want. Make Sure for each and every chart the following format should be answered.\n",
        "        \n",
        "\n",
        "```\n",
        "# Chart visualization code\n",
        "```\n",
        "            \n",
        "\n",
        "*   Why did you pick the specific chart?\n",
        "*   What is/are the insight(s) found from the chart?\n",
        "* Will the gained insights help creating a positive business impact?\n",
        "Are there any insights that lead to negative growth? Justify with specific reason.\n",
        "\n",
        "5. You have to create at least 20 logical & meaningful charts having important insights.\n",
        "\n",
        "\n",
        "[ Hints : - Do the Vizualization in  a structured way while following \"UBM\" Rule.\n",
        "\n",
        "U - Univariate Analysis,\n",
        "\n",
        "B - Bivariate Analysis (Numerical - Categorical, Numerical - Numerical, Categorical - Categorical)\n",
        "\n",
        "M - Multivariate Analysis\n",
        " ]\n",
        "\n",
        "\n",
        "\n"
      ],
      "metadata": {
        "id": "ZrxVaUj-hHfC"
      }
    },
    {
      "cell_type": "markdown",
      "source": [
        "# ***Let's Begin !***"
      ],
      "metadata": {
        "id": "O_i_v8NEhb9l"
      }
    },
    {
      "cell_type": "markdown",
      "source": [
        "## ***1. Know Your Data***"
      ],
      "metadata": {
        "id": "HhfV-JJviCcP"
      }
    },
    {
      "cell_type": "markdown",
      "source": [
        "### Import Libraries"
      ],
      "metadata": {
        "id": "Y3lxredqlCYt"
      }
    },
    {
      "cell_type": "code",
      "source": [
        "# Import all the necessary libraries and dependencies for data analysis and visualization\n",
        "import numpy as np\n",
        "import pandas as pd\n",
        "import seaborn as sns\n",
        "import matplotlib.pyplot as plt\n",
        "import warnings\n",
        "warnings.filterwarnings('ignore')\n",
        "import os\n",
        "from google.colab import files"
      ],
      "metadata": {
        "id": "M8Vqi-pPk-HR"
      },
      "execution_count": null,
      "outputs": []
    },
    {
      "cell_type": "markdown",
      "source": [
        "### Dataset Loading"
      ],
      "metadata": {
        "id": "3RnN4peoiCZX"
      }
    },
    {
      "cell_type": "code",
      "source": [
        "df_apps = pd.read_csv('Play Store Data.csv')\n",
        "\n",
        "df_reviews = pd.read_csv('User Reviews.csv')"
      ],
      "metadata": {
        "id": "4CkvbW_SlZ_R"
      },
      "execution_count": null,
      "outputs": []
    },
    {
      "cell_type": "markdown",
      "source": [
        "### Dataset First View"
      ],
      "metadata": {
        "id": "x71ZqKXriCWQ"
      }
    },
    {
      "cell_type": "code",
      "source": [
        "df_apps.head()  #Overview of the first few rows to understand the data structure and initial values."
      ],
      "metadata": {
        "id": "LWNFOSvLl09H"
      },
      "execution_count": null,
      "outputs": []
    },
    {
      "cell_type": "markdown",
      "source": [
        "### Dataset Rows & Columns count"
      ],
      "metadata": {
        "id": "7hBIi_osiCS2"
      }
    },
    {
      "cell_type": "code",
      "source": [
        "df_reviews.head()  #Overview of the first few rows to understand the data structure and initial values."
      ],
      "metadata": {
        "id": "Kllu7SJgmLij"
      },
      "execution_count": null,
      "outputs": []
    },
    {
      "cell_type": "code",
      "source": [
        "df_apps.tail()  #Examination of the last few rows to check for end-of-file anomalies and overall consistency."
      ],
      "metadata": {
        "id": "pMaeqPJN6m5z"
      },
      "execution_count": null,
      "outputs": []
    },
    {
      "cell_type": "code",
      "source": [
        "df_reviews.tail()  #Examination of the last few rows to check for end-of-file anomalies and overall consistency."
      ],
      "metadata": {
        "id": "MJZwFHCB6mcX"
      },
      "execution_count": null,
      "outputs": []
    },
    {
      "cell_type": "markdown",
      "source": [
        "* **Data Summary and Key Statistics**"
      ],
      "metadata": {
        "id": "LBXFD-yG61b4"
      }
    },
    {
      "cell_type": "code",
      "source": [
        "# Print the number of rows and columns in the Play Store Data DataFrame\n",
        "print('Number of Rows in Play Store Data:', df_apps.shape[0])  # Number of rows (entries) in the Play Store Data DataFrame\n",
        "print('Number of Columns in Play Store Data:', df_apps.shape[1])  # Number of columns (features) in the Play Store Data DataFrame\n",
        "\n",
        "# Print the number of rows and columns in the User Reviews Data DataFrame\n",
        "print('Number of Rows in User Reviews Data:', df_reviews.shape[0])  # Number of rows (entries) in the User Reviews Data DataFrame\n",
        "print('Number of Columns in User Reviews Data:', df_reviews.shape[1])  # Number of columns (features) in the User Reviews Data DataFrame\n"
      ],
      "metadata": {
        "id": "HMXcKxr56mCY"
      },
      "execution_count": null,
      "outputs": []
    },
    {
      "cell_type": "markdown",
      "source": [
        "### Dataset Information"
      ],
      "metadata": {
        "id": "JlHwYmJAmNHm"
      }
    },
    {
      "cell_type": "code",
      "source": [
        "# Print information about the Play Store Data DataFrame\n",
        "print('Playstore Data Information:')\n",
        "df_apps.info()  # Displays a concise summary of the DataFrame, including the number of non-null entries and data types for each column\n",
        "\n",
        "print('\\n')  # Print a newline for better readability between outputs\n",
        "\n",
        "# Print information about the User Reviews Data DataFrame\n",
        "print('User Reviews Data Information:')\n",
        "df_reviews.info()  # Displays a concise summary of the DataFrame, including the number of non-null entries and data types for each column\n"
      ],
      "metadata": {
        "id": "e9hRXRi6meOf"
      },
      "execution_count": null,
      "outputs": []
    },
    {
      "cell_type": "markdown",
      "source": [
        "#### Missing Values/Null Values"
      ],
      "metadata": {
        "id": "PoPl-ycgm1ru"
      }
    },
    {
      "cell_type": "code",
      "source": [
        "def null_value_percentage(data_df):\n",
        "    null_values = pd.DataFrame(index=data_df.columns)  # Create a new DataFrame to store missing value statistics\n",
        "\n",
        "    null_values['datatype'] = data_df.dtypes  # Add the data type of each column\n",
        "\n",
        "    null_values['Non_Null_Values'] = data_df.count()  # Count the number of non-null values in each column\n",
        "\n",
        "    null_values['Null_Values'] = data_df.isnull().sum()  # Count the number of null values in each column\n",
        "\n",
        "    null_values['Null_Value_Percentage'] = round(data_df.isnull().sum() / len(data_df) * 100, 2)  # Calculate the percentage of null values in each column\n",
        "\n",
        "    return null_values\n",
        "\n",
        "# Print the percentage of missing values for each column in the Play Store dataset\n",
        "print('Percentage of Missing Values In Play Store Dataset:', null_value_percentage(df_apps), sep='\\n')\n",
        "\n",
        "print('\\n')   # Print a blank line to separate the outputs for better readability\n",
        "\n",
        "# Print the percentage of missing values for each column in the User Reviews dataset\n",
        "print('Percentage of Missing Values In User Reviews Dataset:', null_value_percentage(df_reviews), sep='\\n')\n"
      ],
      "metadata": {
        "id": "GgHWkxvamxVg"
      },
      "execution_count": null,
      "outputs": []
    },
    {
      "cell_type": "code",
      "source": [
        "# Visualizing the missing values\n",
        "# Checking Null Values by plotting Heatmap for Play Store Data\n",
        "sns.heatmap(df_apps.isnull(), cbar=False, cmap='viridis')   # Create a heatmap of null values, disabling the color bar and setting the colormap to 'viridis'\n",
        "plt.xlabel('Columns')    # Label the x-axis as 'Columns'\n",
        "plt.ylabel('Rows')     # Label the y-axis as 'Rows'\n",
        "plt.title('Null Values Heatmap for Play Store Data')    # Add a title to the heatmap\n",
        "plt.show()  # Display the plot\n",
        "\n"
      ],
      "metadata": {
        "id": "3q5wnI3om9sJ"
      },
      "execution_count": null,
      "outputs": []
    },
    {
      "cell_type": "markdown",
      "source": [
        "Summary For Null Values In Play Store Data:\n",
        "* The Rating column has a significant number of missing values.\n",
        "* Columns like  Current Ver has few missing values.\n",
        "* All other columns (App, Category, Reviews, Size, Installs, Type, Price, Genres, Last Updated, Android Ver) appear to have no missing values (completely black)."
      ],
      "metadata": {
        "id": "QXRQoD7R7Xhm"
      }
    },
    {
      "cell_type": "code",
      "source": [
        "# Visualizing the missing values\n",
        "# Checking Null Value by plotting Heatmap for User Reviews Data\n",
        "# Customize the heatmap\n",
        "sns.heatmap(df_reviews.isnull(), cbar=False, cmap='viridis')  # Create heatmap showing missing values with 'viridis' color map\n",
        "plt.title('Missing Value Heatmap for User Reviews Data')  # Set the title of the heatmap\n",
        "plt.xlabel('Columns')  # Label for the x-axis\n",
        "plt.ylabel('Rows')  # Label for the y-axis\n",
        "plt.xticks(rotation=45)  # Rotate x-axis labels for better readability\n",
        "plt.show()  # Display the heatmap"
      ],
      "metadata": {
        "id": "OEYuvno67d-6"
      },
      "execution_count": null,
      "outputs": []
    },
    {
      "cell_type": "markdown",
      "source": [
        "Summary Of Null Values In User Review Data:\n",
        "* The columns Translated_Review, Sentiment, Sentiment_Polarity, and Sentiment_Subjectivity have a significant number of missing values.\n",
        "* The App column does not have any missing values."
      ],
      "metadata": {
        "id": "t6LiI7fU7jbh"
      }
    },
    {
      "cell_type": "markdown",
      "source": [
        "# What did you know about your dataset?"
      ],
      "metadata": {
        "id": "KFF6mE8p7syw"
      }
    },
    {
      "cell_type": "markdown",
      "source": [
        "### Play Store Dataset Summary:\n",
        "- **Focus:** Mobile application industry, specifically Android platform.\n",
        "- **Dimensions:** 10,841 rows, 13 columns.\n",
        "- **Missing Values:**\n",
        "  - `Rating`: 13.60% null values.\n",
        "  - `Type`: 0.01% null values.\n",
        "  - `Content Rating`: 0.01% null values.\n",
        "  - `Current Ver`: 0.07% null values.\n",
        "  - `Android Ver`: 0.03% null values.\n",
        "- **Primary Aim:** Identify key factors that contribute to app engagement and success on the Play Store.\n",
        "\n",
        "### User Reviews Dataset Summary:\n",
        "- **Focus:** User reviews of mobile applications on the Android platform.\n",
        "- **Dimensions:** 64,295 rows, 5 columns.\n",
        "- **Missing Values:**\n",
        "  - `Translated_Review`: 41.79% null values.\n",
        "  - `Sentiment`: 41.78% null values.\n",
        "  - `Sentiment_Polarity`: 41.78% null values.\n",
        "  - `Sentiment_Subjectivity`: 41.78% null values.\n",
        "- **Primary Aim:** Analyze user feedback to understand sentiment and its impact on app success.\n",
        "\n",
        "### Key Insights:\n",
        "- Both datasets provide comprehensive coverage of the Android mobile app market.\n",
        "- The Play Store dataset offers a detailed view of app characteristics and their metadata.\n",
        "- The User Reviews dataset provides valuable insights into user opinions and sentiment, which can be correlated with app features from the Play Store dataset.\n",
        "- A significant portion of the data, especially in the User Reviews dataset, has missing values, which will require cleaning and preprocessing.\n",
        "- By analyzing these datasets, we aim to uncover patterns and trends that can inform strategies for improving app performance and user satisfaction."
      ],
      "metadata": {
        "id": "T-YVqi_Q7up0"
      }
    },
    {
      "cell_type": "markdown",
      "source": [
        "## ***2. Understanding Your Variables***"
      ],
      "metadata": {
        "id": "nA9Y7ga8ng1Z"
      }
    },
    {
      "cell_type": "code",
      "source": [
        "# Dataset Columns\n",
        "\n",
        "# Print the column names in the Play Store dataset\n",
        "print('Play Store Dataset Columns:', df_apps.columns, sep='\\n', end='\\n\\n')\n",
        "\n",
        "# Print the column names in the User Review dataset\n",
        "print('User Review Dataset Columns:', df_reviews.columns, sep='\\n')\n"
      ],
      "metadata": {
        "id": "j7xfkqrt5Ag5"
      },
      "execution_count": null,
      "outputs": []
    },
    {
      "cell_type": "code",
      "source": [
        "# dataset description\n",
        "# Generate descriptive statistics for all columns in the Play Store dataset\n",
        "apps_description = df_apps.describe(include='all')\n",
        "\n",
        "# Generate descriptive statistics for all columns in the User Reviews dataset\n",
        "reviews_description = df_reviews.describe(include='all')\n",
        "\n",
        "# Print the descriptive statistics for the Play Store dataset\n",
        "print('Play Store Dataset Description:', apps_description, sep='\\n', end='\\n\\n')\n",
        "\n",
        "# Print the descriptive statistics for the User Reviews dataset\n",
        "print('User Reviews Dataset Description:', reviews_description, sep='\\n')\n"
      ],
      "metadata": {
        "id": "DnOaZdaE5Q5t"
      },
      "execution_count": null,
      "outputs": []
    },
    {
      "cell_type": "markdown",
      "source": [
        "### Variables Description"
      ],
      "metadata": {
        "id": "PBTbrJXOngz2"
      }
    },
    {
      "cell_type": "markdown",
      "source": [
        "**Brief analysis of both datasets:**\n",
        "### Play Store Dataset Columns:\n",
        "- **App (object)**: Name of the app. This is a categorical column.\n",
        "- **Category (object)**: App category (e.g., Games, Productivity). This is a categorical column.\n",
        "- **Rating (float64)**: User rating of the app on a scale from 1 to 5. This is a numerical column.\n",
        "- **Reviews (object)**: Number of user reviews. This should ideally be numerical but is often stored as a categorical column due to formatting issues.\n",
        "- **Size (object)**: Size of the app (e.g., '19M', 'Varies with device'). This is a categorical column\n",
        "- **Installs (object)**: Number of installations (e.g., '1,000,000+'). This is a categorical column, but should be converted to a numerical format for analysis.\n",
        "- **Type (object)**: Whether the app is free or paid. This is a categorical column.\n",
        "- **Price (object)**: Price of the app (e.g., '$4.99', '0'). This is a categorical column, but should be converted to a numerical format (after removing the currency symbol) for analysis.\n",
        "- **Content Rating (object)**: Age group suitable for the app (e.g., Everyone, Teen). This is a categorical column.\n",
        "- **Genres (object)**: App genres (e.g., 'Action', 'Puzzle'). This is a categorical column.\n",
        "- **Last Updated (object)**: Last update date of the app (e.g., 'August 3, 2018'). This is a categorical column, but should ideally be converted to a datetime format for analysis.\n",
        "- **Current Ver (object)**: Current version of the app. This is a categorical column.\n",
        "- **Android Ver (object)**: Minimum Android version required. This is a categorical column.\n",
        "\n",
        "### User Reviews Dataset Columns:\n",
        "- **App (object)**: Name of the app. This is a categorical column.\n",
        "- **Translated_Review (object)**: Translated user review text. This is a categorical column.\n",
        "- **Sentiment (object)**: Sentiment of the review (Positive, Neutral, Negative). This is a categorical column.\n",
        "- **Sentiment_Polarity (float64)**: The review's polarity, ranging from -1 (Negative) to 1 (Positive). This is a numerical column.\n",
        "- **Sentiment_Subjectivity (float64)**: Subjectivity score of the sentiment (ranging from 0 to 1).  Higher scores suggest opinions closer to the general public, while lower scores indicate more factual information in the review. This is a numerical column.\n",
        "\n",
        "This refined description should provide a clearer understanding of each column and how they are categorized.Answer Here"
      ],
      "metadata": {
        "id": "aJV4KIxSnxay"
      }
    },
    {
      "cell_type": "markdown",
      "source": [
        "### Check Unique Values for each variable."
      ],
      "metadata": {
        "id": "u3PMJOP6ngxN"
      }
    },
    {
      "cell_type": "code",
      "source": [
        "# Iterate through each column in the Play Store dataset and print the total number of unique values in each column\n",
        "for i in df_apps.columns.tolist():\n",
        "    print('Total Unique Value in', i, ':', df_apps[i].nunique())\n",
        "\n",
        "print('\\n')  # Print a newline for better readability\n",
        "\n",
        "# Iterate through each column in the User Reviews dataset and print the total number of unique values in each column\n",
        "for i in df_reviews.columns.tolist():\n",
        "    print('Total Unique Value in', i, ':', df_reviews[i].nunique())\n"
      ],
      "metadata": {
        "id": "zms12Yq5n-jE"
      },
      "execution_count": null,
      "outputs": []
    },
    {
      "cell_type": "code",
      "source": [
        "# Print the number of duplicate values in the Play Store dataset\n",
        "print('Duplicate Values in Play Store Dataset:', df_apps.duplicated().sum())\n",
        "\n",
        "# Print the number of duplicate values in the User Review dataset\n",
        "print('Duplicate Values in User Review Dataset:', df_reviews.duplicated().sum())\n"
      ],
      "metadata": {
        "id": "DwYEiGGl8ODi"
      },
      "execution_count": null,
      "outputs": []
    },
    {
      "cell_type": "markdown",
      "source": [
        "## 3. ***Data Wrangling***"
      ],
      "metadata": {
        "id": "dauF4eBmngu3"
      }
    },
    {
      "cell_type": "markdown",
      "source": [
        "### Data Wrangling Code"
      ],
      "metadata": {
        "id": "bKJF3rekwFvQ"
      }
    },
    {
      "cell_type": "code",
      "source": [
        "# Write your code to make your dataset analysis ready.\n",
        "\n",
        "# Print the rows with non-numeric characters in the 'Reviews' column\n",
        "non_numeric_data = df_apps[df_apps['Reviews'].str.contains(r'\\D')]\n",
        "print(\"Rows with non-numeric characters in 'Reviews' column:\")\n",
        "non_numeric_data"
      ],
      "metadata": {
        "id": "wk-9a2fpoLcV"
      },
      "execution_count": null,
      "outputs": []
    },
    {
      "cell_type": "code",
      "source": [
        "# The row at index 10472 contains data that is entirely incorrect and irrelevant.\n",
        "\n",
        "# The row is seemed unusable and misleading for the analysis, and removing it will ensures the integrity and accuracy of the overall dataset.\n",
        "df_apps = df_apps.drop(index=10472)\n",
        "\n",
        "# Resetting the index ensures that the DataFrame has continuous and ordered indices after dropping a row.\n",
        "df_apps = df_apps.reset_index(drop=True)"
      ],
      "metadata": {
        "id": "TSdx0dzU8XdC"
      },
      "execution_count": null,
      "outputs": []
    },
    {
      "cell_type": "code",
      "source": [
        "# Convert the 'Reviews' column to integer datatype\n",
        "df_apps['Reviews'] = df_apps['Reviews'].astype(int)"
      ],
      "metadata": {
        "id": "s97WdC5k8Zpx"
      },
      "execution_count": null,
      "outputs": []
    },
    {
      "cell_type": "code",
      "source": [
        "# Convert the 'Last Updated' column to datetime format\n",
        "df_apps['Last Updated'] = pd.to_datetime(df_apps['Last Updated'])"
      ],
      "metadata": {
        "id": "gCE0lsPV8ZQi"
      },
      "execution_count": null,
      "outputs": []
    },
    {
      "cell_type": "code",
      "source": [
        "def drop_dollar_symbol(data):\n",
        "    \"\"\"\n",
        "    Function to remove the dollar sign from a price string and convert it to a float.\n",
        "\n",
        "    Parameters:\n",
        "    data (str): The price string which may contain a dollar sign.\n",
        "\n",
        "    Returns:\n",
        "    float: The numeric value of the price without the dollar sign.\n",
        "    \"\"\"\n",
        "    if '$' in data:\n",
        "        # If the price contains a dollar sign, remove it and convert the remaining string to float\n",
        "        return float(data[1:])\n",
        "    else:\n",
        "        # If the price does not contain a dollar sign, directly convert it to float\n",
        "        return float(data)\n",
        "\n",
        "# Applying the drop_dollar_symbol function to the 'Price' column\n",
        "# This converts the 'Price' column values from strings with dollar signs to numeric values (floats)\n",
        "df_apps['Price'] = df_apps['Price'].apply(drop_dollar_symbol)\n"
      ],
      "metadata": {
        "id": "_KqM2LJX8e26"
      },
      "execution_count": null,
      "outputs": []
    },
    {
      "cell_type": "code",
      "source": [
        "def drop_addition_symbol(data):\n",
        "    \"\"\"\n",
        "    Function to remove addition symbols and commas from a string representing installation numbers\n",
        "    and convert it to an integer.\n",
        "\n",
        "    Parameters:\n",
        "    data (str): The installation number as a string, which may contain '+' or ',' symbols.\n",
        "\n",
        "    Returns:\n",
        "    int: The numeric value of the installation number after cleaning the string.\n",
        "    \"\"\"\n",
        "    try:\n",
        "        # Check if both '+' and ',' are in the data\n",
        "        if '+' in data and ',' in data:\n",
        "            # Remove ',' and '+', then convert to integer\n",
        "            return int(data.replace(',', '').replace('+', ''))\n",
        "        elif '+' in data:\n",
        "            # Remove '+', then convert to integer\n",
        "            return int(data.replace('+', ''))\n",
        "        else:\n",
        "            # Convert directly to integer if no '+' or ',' present\n",
        "            return int(data)\n",
        "    except ValueError:\n",
        "        # Return 0 if conversion fails due to invalid format\n",
        "        return 0\n",
        "\n",
        "# Applying the drop_addition_symbol function to the 'Installs' column\n",
        "# This converts the 'Installs' column values from strings with symbols to integer values\n",
        "df_apps['Installs'] = df_apps['Installs'].apply(drop_addition_symbol)\n"
      ],
      "metadata": {
        "id": "S7BiGp1n8jun"
      },
      "execution_count": null,
      "outputs": []
    },
    {
      "cell_type": "code",
      "source": [
        "def convert_kb_to_mb(data):\n",
        "    \"\"\"\n",
        "    Function to convert size values from kilobytes to megabytes and keep megabytes as is.\n",
        "\n",
        "    Parameters:\n",
        "    data (str): The size of the app as a string, which may contain 'M' (for MB) or 'k' (for KB).\n",
        "\n",
        "    Returns:\n",
        "    float: The size of the app in megabytes. If the input is already in megabytes, it is returned as a float.\n",
        "    \"\"\"\n",
        "    try:\n",
        "        if 'M' in data:\n",
        "        # If the size is in megabytes ('M'), remove the 'M' and convert to float\n",
        "          return float(data[:-1])\n",
        "        elif 'k' in data:\n",
        "        # If the size is in kilobytes ('k'), remove the 'k', convert to float, and convert to megabytes\n",
        "          return round(float(data[:-1]) / 1024, 4)\n",
        "        else:\n",
        "        # If the size is neither in 'M' nor 'k', return the data as is\n",
        "           return data\n",
        "    except:\n",
        "        return data\n",
        "\n",
        "# Applying the convert_kb_to_mb function to the 'Size' column\n",
        "# This converts the 'Size' column values from strings with 'M' or 'k' to numeric values in megabytes\n",
        "df_apps['Size'] = df_apps['Size'].apply(convert_kb_to_mb)\n"
      ],
      "metadata": {
        "id": "pCqzDwAo8nMP"
      },
      "execution_count": null,
      "outputs": []
    },
    {
      "cell_type": "code",
      "source": [
        "# Verifying the data type information after type conversion\n",
        "print('Play Store Updated Data Info:')\n",
        "\n",
        "# Display information about the DataFrame, including the data types of each column and non-null values\n",
        "df_apps.info()\n"
      ],
      "metadata": {
        "id": "83PabjSg8p7K"
      },
      "execution_count": null,
      "outputs": []
    },
    {
      "cell_type": "code",
      "source": [
        "# Extract non-float values in 'Size' column\n",
        "non_float_size_values = df_apps['Size'][~df_apps['Size'].apply(lambda x: isinstance(x, float))]\n",
        "\n",
        "# Calculate the percentage of non-float values in 'Size' column\n",
        "percentage_of_non_float = (len(non_float_size_values) / len(df_apps['Size'])) * 100\n",
        "\n",
        "# Print the result\n",
        "print(f\"Non-float values in the 'Size' column: {non_float_size_values.unique()}\")\n",
        "print(f\"Percentage of non-float values in the 'Size' column: {percentage_of_non_float:.2f}%\")\n",
        "\n",
        "# Note: 'Varies with device' being the only non-float entry, constituting 15.64%,\n",
        "# led to the decision to retain rows with this value in the 'Size' column.\n"
      ],
      "metadata": {
        "id": "OLu0UT438sr_"
      },
      "execution_count": null,
      "outputs": []
    },
    {
      "cell_type": "code",
      "source": [
        "# Display the shape of the datasets before removing duplicates\n",
        "print('Shape Before Removing Duplicates:')\n",
        "print('Play Store Data Rows count Before Removing Duplicate Values:', df_apps.shape[0])  # Number of rows in Play Store data\n",
        "print('Play Store Data Columns count Before Removing Duplicate Values:', df_apps.shape[1])  # Number of columns in Play Store data\n",
        "print('User Reviews Data Rows count Before Removing Duplicate Values:', df_reviews.shape[0])  # Number of rows in User Reviews data\n",
        "print('User Reviews Data Columns count:Before Removing Duplicate Values', df_reviews.shape[1])  # Number of columns in User Reviews data\n",
        "\n",
        "\n",
        "print('\\n')  # printing extra space for better readability of output\n",
        "\n",
        "# Remove duplicate rows from both datasets\n",
        "df_reviews.drop_duplicates(inplace=True)  # Remove duplicates from User Reviews data\n",
        "df_apps.drop_duplicates(inplace=True)  # Remove duplicates from Play Store data\n",
        "\n",
        "# Display the shape of the datasets after removing duplicates\n",
        "print('Shape After Removing Duplicates:')\n",
        "print('Play Store Data Rows count After Removing Duplicate Values:', df_apps.shape[0])  # Number of rows in Play Store data after duplicates removed\n",
        "print('Play Store Data Columns count After Removing Duplicate Values:', df_apps.shape[1])  # Number of columns in Play Store data after duplicates removed\n",
        "print('User Reviews Data Rows count After Removing Duplicate Values:', df_reviews.shape[0])  # Number of rows in User Reviews data after duplicates removed\n",
        "print('User Reviews Data Columns count After Removing Duplicate Values:', df_reviews.shape[1])  # Number of columns in User Reviews data after duplicates removed\n"
      ],
      "metadata": {
        "id": "2J-SL6rK8vwf"
      },
      "execution_count": null,
      "outputs": []
    },
    {
      "cell_type": "code",
      "source": [
        "# Filling missing values for numerical and categorical columns in the play store data\n",
        "\n",
        "# For numerical columns, use the median to fill missing values\n",
        "df_apps['Rating'].fillna(df_apps['Rating'].median(), inplace=True)\n",
        "\n",
        "# For categorical columns, use the mode (most frequent value) to fill missing values\n",
        "df_apps['Type'].fillna(df_apps['Type'].mode()[0], inplace=True)\n",
        "df_apps['Content Rating'].fillna(df_apps['Content Rating'].mode()[0], inplace=True)\n",
        "\n",
        "# For columns with specific default values, fill missing values with 'Varies with device'\n",
        "df_apps['Current Ver'].fillna('Varies with device', inplace=True)\n",
        "df_apps['Android Ver'].fillna('Varies with device', inplace=True)\n",
        "\n",
        "# Filling missing values for numerical and categorical columns in the user review data\n",
        "\n",
        "# For numerical columns, use the median to fill missing values\n",
        "df_reviews['Sentiment_Polarity'].fillna(df_reviews['Sentiment_Polarity'].median(), inplace=True)\n",
        "df_reviews['Sentiment_Subjectivity'].fillna(df_reviews['Sentiment_Subjectivity'].median(), inplace=True)\n",
        "\n",
        "# For categorical columns, use the mode (most frequent value) to fill missing values\n",
        "df_reviews['Sentiment'].fillna(df_reviews['Sentiment'].mode()[0], inplace=True)\n",
        "\n",
        "# For text data, fill missing values with a placeholder text\n",
        "df_reviews['Translated_Review'].fillna('No Review', inplace=True)\n",
        "\n",
        "# Check for any remaining missing values after imputation\n",
        "updated_missing_value_count_apps = df_apps.isnull().sum()\n",
        "updated_missing_value_count_reviews = df_reviews.isnull().sum()\n",
        "\n",
        "# Print the count of missing values for each column in both datasets\n",
        "print(f'Missing value in Apps Data: {updated_missing_value_count_apps}')\n",
        "\n",
        "print('\\n')  # Print a newline for better readability of the output\n",
        "\n",
        "print(f'Missing value in Reviews Data: {updated_missing_value_count_reviews}')\n"
      ],
      "metadata": {
        "id": "urcS7MKZ8zsB"
      },
      "execution_count": null,
      "outputs": []
    },
    {
      "cell_type": "code",
      "source": [
        "# Visualization of outliers through box plots\n",
        "\n",
        "# Create a figure with two subplots side by side\n",
        "fig, axes = plt.subplots(1, 2, figsize=(10, 5))\n",
        "\n",
        "# Plot a box plot for the 'Reviews' column on the first subplot\n",
        "sns.boxplot(ax = axes[0], x = df_apps['Reviews'])\n",
        "axes[0].set_title('Box Plot - Reviews')  # Set the title for the first subplot\n",
        "\n",
        "# Plot a box plot for the 'Installs' column on the second subplot\n",
        "sns.boxplot(ax = axes[1], x = df_apps['Installs'])\n",
        "axes[1].set_title('Box Plot - Installs')  # Set the title for the second subplot\n",
        "\n",
        "# Adjust the layout to prevent overlap of plots and titles\n",
        "plt.tight_layout()\n",
        "\n",
        "# Display the plots\n",
        "plt.show()\n"
      ],
      "metadata": {
        "id": "gWVhZbgk86Gu"
      },
      "execution_count": null,
      "outputs": []
    },
    {
      "cell_type": "code",
      "source": [
        "# Display the shape of the datasets before removing outliers\n",
        "print('Shape Before Removing Outliers in Apps Data:')\n",
        "print('Play Store Data Row Count:', df_apps.shape[0])\n",
        "print('Play Store Data Column Count:', df_apps.shape[1])\n",
        "print('\\n')\n",
        "print('Shape Before Removing Outliers in Reviews Data:')\n",
        "print('User Reviews Data Row Count:', df_reviews.shape[0])\n",
        "print('User Reviews Data Column Count:', df_reviews.shape[1])\n",
        "\n",
        "# Define quantiles for outlier removal\n",
        "quantile_low = 0.05\n",
        "quantile_high = 0.95\n",
        "\n",
        "# Remove outliers from the 'Reviews' column in df_apps\n",
        "df_apps = df_apps[(df_apps['Reviews'] >= df_apps['Reviews'].quantile(quantile_low)) &\n",
        "                  (df_apps['Reviews'] <= df_apps['Reviews'].quantile(quantile_high))]\n",
        "\n",
        "# Remove outliers from the 'Installs' column in df_apps\n",
        "df_apps = df_apps[(df_apps['Installs'] >= df_apps['Installs'].quantile(quantile_low)) &\n",
        "                  (df_apps['Installs'] <= df_apps['Installs'].quantile(quantile_high))]\n",
        "\n",
        "# Display the shape of the datasets after removing outliers\n",
        "print('Shape After Removing Outliers:')\n",
        "print('Play Store Data Row Count:', df_apps.shape[0])\n",
        "print('Play Store Data Column Count:', df_apps.shape[1])\n",
        "print('User Reviews Data Row Count:', df_reviews.shape[0])\n",
        "print('User Reviews Data Column Count:', df_reviews.shape[1])\n"
      ],
      "metadata": {
        "id": "LBW1aIQ18-Sa"
      },
      "execution_count": null,
      "outputs": []
    },
    {
      "cell_type": "code",
      "source": [
        "# Dropping unnecessary columns which are not required for analysis from Play Store and User Reviews datasets\n",
        "\n",
        "# Drop the 'Current Ver' column from df_apps\n",
        "df_apps = df_apps.drop('Current Ver', axis=1)\n",
        "\n",
        "# Drop the 'Translated_Review' column from df_reviews\n",
        "df_reviews = df_reviews.drop('Translated_Review', axis=1)\n",
        "\n",
        "print('Shape After Removing Unnecessary Columns:')\n",
        "# Display the number of rows and columns in each dataset after removing unnecessary columns\n",
        "print('Play Store Data Rows count:', df_apps.shape[0])\n",
        "print('Play Store Data Columns count:', df_apps.shape[1])\n",
        "print('User Reviews Data Rows count:', df_reviews.shape[0])\n",
        "print('User Reviews Data Columns count:', df_reviews.shape[1])\n"
      ],
      "metadata": {
        "id": "0GWhBF-B9Br6"
      },
      "execution_count": null,
      "outputs": []
    },
    {
      "cell_type": "markdown",
      "source": [
        "### What all manipulations have you done and insights you found?"
      ],
      "metadata": {
        "id": "MSa1f5Uengrz"
      }
    },
    {
      "cell_type": "markdown",
      "source": [
        "The following actions were taken to make the datasets analysis-ready:\n",
        "\n",
        "1. **Identifying Non-Numeric Reviews:**\n",
        "   - Checked and printed rows with non-numeric characters in the 'Reviews' column.\n",
        "\n",
        "2. **Removing Irrelevant Row:**\n",
        "   - Dropped the row at index 10472 as it contained incorrect or irrelevant data, ensuring dataset integrity.\n",
        "\n",
        "3. **Converting Reviews to Integer:**\n",
        "   - Converted the 'Reviews' column to integer data type for numerical analysis.\n",
        "\n",
        "4. **Converting Last Updated to Datetime:**\n",
        "   - Converted the 'Last Updated' column to datetime format for temporal analysis.\n",
        "\n",
        "5. **Handling Price Values:**\n",
        "   - Created a function (`drop_dollar`) to drop the '$' symbol and convert the 'Price' column to float data type.\n",
        "\n",
        "6. **Handling Installs Values:**\n",
        "   - Created a function (`drop_plus`) to drop the '+' symbol and convert the 'Installs' column to integer data type.\n",
        "\n",
        "7. **Converting Size Entries:**\n",
        "   - Created a function (`kb_to_mb`) to convert size entries to MB and handle 'k' or 'M' units.\n",
        "\n",
        "8. **Verifying Data Types:**\n",
        "   - Checked and printed the updated data type information after the type conversion.\n",
        "\n",
        "9. **Removing Duplicates:**\n",
        "   - Removed duplicate rows from both the Play Store and User Reviews datasets.\n",
        "\n",
        "10. **Handling Missing Values:**\n",
        "    - Filled missing values for numerical columns with the median and categorical columns with the mode.\n",
        "    - Checked and printed the updated number of missing values in both datasets.\n",
        "\n",
        "11. **Handling Outliers:**\n",
        "    - Visualized outliers through box plots for Reviews and Installs.\n",
        "    - Removed outliers from data based on quantile range (5% to 95%) for Reviews and Installs.\n",
        "\n",
        "12. **Removing Unnecessary Columns:**\n",
        "   - Certain columns were considered non-significant to the analysis and were subsequently dropped. Specifically, the 'Current Ver' column in the Play Store Dataset (`df_psdata`) and the 'Translated_Review' column in the User Reviews Dataset (`df_review`) were excluded."
      ],
      "metadata": {
        "id": "LbyXE7I1olp8"
      }
    },
    {
      "cell_type": "markdown",
      "source": [
        "## ***4. Data Vizualization, Storytelling & Experimenting with charts : Understand the relationships between variables***"
      ],
      "metadata": {
        "id": "GF8Ens_Soomf"
      }
    },
    {
      "cell_type": "markdown",
      "source": [
        "#### Chart - 1"
      ],
      "metadata": {
        "id": "0wOQAZs5pc--"
      }
    },
    {
      "cell_type": "code",
      "source": [
        "# Chart - 1 visualization code\n",
        "# Distribution of Sentiment Polarity\n",
        "\n",
        "# Set the style of the visualization\n",
        "sns.set_style('darkgrid')\n",
        "\n",
        "# Create a new figure for the plot\n",
        "plt.figure(figsize=(10, 5))\n",
        "\n",
        "# Set the title of the plot\n",
        "plt.title('Distribution of Sentiment Polarity', size=20)\n",
        "\n",
        "# Plot the distribution of sentiment polarity using a histogram with KDE\n",
        "sns.histplot(df_reviews['Sentiment_Polarity'], bins=50, kde=True)\n",
        "\n",
        "# Set the labels for the x and y axes\n",
        "plt.xlabel('Sentiment Polarity', size=15)\n",
        "plt.ylabel('Frequency', size=15)\n",
        "\n",
        "# Display the plot\n",
        "plt.show()\n"
      ],
      "metadata": {
        "id": "7v_ESjsspbW7"
      },
      "execution_count": null,
      "outputs": []
    },
    {
      "cell_type": "markdown",
      "source": [
        "##### 1. Why did you pick the specific chart?"
      ],
      "metadata": {
        "id": "K5QZ13OEpz2H"
      }
    },
    {
      "cell_type": "markdown",
      "source": [
        "Histogram charts prove valuable when visualizing the distribution of a singular numerical variable. In this case, the histogram displays the frequency of different sentiment polarity values, while the KDE adds a smooth curve to highlight overall patterns and trends. This combination helps to clearly see the distribution shape, central tendency, and variability in sentiment scores, making it easier to interpret the sentiment data."
      ],
      "metadata": {
        "id": "XESiWehPqBRc"
      }
    },
    {
      "cell_type": "markdown",
      "source": [
        "##### 2. What is/are the insight(s) found from the chart?"
      ],
      "metadata": {
        "id": "lQ7QKXXCp7Bj"
      }
    },
    {
      "cell_type": "markdown",
      "source": [
        "\n",
        "1. **Neutral sentiment dominance**: The histogram shows a significant peak at the neutral sentiment polarity (around 0.0). This indicates that a large portion of the data exhibits neutral sentiment, suggesting that the content or interactions analyzed often do not evoke strong positive or negative feelings.\n",
        "\n",
        "2. **Prevalence of positive sentiment**: There is a noticeable right skew in the histogram, with a concentration of data points on the positive side of the polarity spectrum. This implies that the content generally leans towards a more positive sentiment, reflecting an overall positive reaction or sentiment in the dataset.\n",
        "\n",
        "3. **Presence of negative sentiment**: Although less prominent, the histogram also reveals a tail on the negative side of the polarity scale. This suggests that some instances in the dataset carry negative sentiment, indicating areas where dissatisfaction or negative feedback is present.\n",
        "\n",
        "4. **Distribution shape**: The distribution is skewed towards the positive side, meaning there is a higher concentration of data points with positive sentiment compared to negative ones. This trend implies that, overall, the sentiment within the dataset is more positive, with a general inclination towards user satisfaction."
      ],
      "metadata": {
        "id": "C_j1G7yiqdRP"
      }
    },
    {
      "cell_type": "markdown",
      "source": [
        "##### 3. Will the gained insights help creating a positive business impact?\n",
        "Are there any insights that lead to negative growth? Justify with specific reason."
      ],
      "metadata": {
        "id": "448CDAPjqfQr"
      }
    },
    {
      "cell_type": "markdown",
      "source": [
        "Answer Here"
      ],
      "metadata": {
        "id": "3cspy4FjqxJW"
      }
    },
    {
      "cell_type": "markdown",
      "source": [
        "### Positive Business Impact:\n",
        "\n",
        "1. **Overall Positive Sentiment**:\n",
        "   - **Potential Positive Impact**: The strong presence of neutral and positive sentiment indicates that most content or interactions are well-received by users. This positive reception can enhance user experiences, increase retention, and potentially attract new users. Positive feedback and satisfaction often lead to favorable word-of-mouth, which can contribute significantly to the popularity and success of the business.\n",
        "\n",
        "2. **Distribution Shape and User Satisfaction**:\n",
        "   - **Positive Growth Opportunity**: The right-skewed distribution, with a higher concentration of positive sentiment, suggests a general trend of user satisfaction. This trend can be leveraged for positive growth. Developers and businesses can use this positive sentiment to reinforce popular features and further enhance the overall user experience, driving continued success and growth.\n",
        "\n",
        "### Negative Growth Consideration:\n",
        "\n",
        "1. **Presence of Negative Sentiment**:\n",
        "   - **Potential Negative Impact**: The presence of negative sentiment, though less dominant, indicates that certain aspects of the content or interactions are causing user dissatisfaction. If this negative feedback is not addressed, it could lead to user churn, negative reviews, and a decline in reputation. Users might seek alternatives that better meet their expectations, potentially impacting the business negatively.\n",
        "\n",
        "2. **Areas for Improvement**:\n",
        "   - **Negative Growth Risk**: The negative sentiment also highlights areas that may require improvement. If these issues are not promptly addressed, they pose a risk of negative growth. Dissatisfied users could impact the overall ratings, retention rates, and success of the business in a competitive market. Addressing these concerns is crucial to prevent potential negative outcomes and maintain positive momentum."
      ],
      "metadata": {
        "id": "CXvuDkuZRofr"
      }
    },
    {
      "cell_type": "markdown",
      "source": [
        "#### Chart - 2"
      ],
      "metadata": {
        "id": "KSlN3yHqYklG"
      }
    },
    {
      "cell_type": "code",
      "source": [
        "# Chart - 2 visualization code\n",
        "# Distribution Of App Rating In Play Store Data\n",
        "\n",
        "# Set the visual style of the plot to 'darkgrid'\n",
        "sns.set(style='darkgrid')\n",
        "\n",
        "# Create a new figure\n",
        "plt.figure(figsize=(10, 5))\n",
        "\n",
        "# Add a title to the chart\n",
        "plt.title('Distribution Of App Rating Values', size=20)\n",
        "\n",
        "# Plot a histogram of the 'Rating' column from the DataFrame 'df_apps'\n",
        "sns.histplot(df_apps['Rating'], bins=50, kde=True)\n",
        "\n",
        "# Label the x-axis as 'Rating'\n",
        "plt.xlabel('Rating', size=15)\n",
        "\n",
        "# Label the y-axis as 'Frequency'\n",
        "plt.ylabel('Frequency', size=15)\n",
        "\n",
        "# Set the x-axis limits to display all values up to 6 while keeping the lower limit automatic\n",
        "plt.xlim([None, 6])\n",
        "\n",
        "# Display the plot\n",
        "plt.show()\n",
        "\n"
      ],
      "metadata": {
        "id": "R4YgtaqtYklH"
      },
      "execution_count": null,
      "outputs": []
    },
    {
      "cell_type": "markdown",
      "source": [
        "##### 1. Why did you pick the specific chart?"
      ],
      "metadata": {
        "id": "t6dVpIINYklI"
      }
    },
    {
      "cell_type": "markdown",
      "source": [
        "Histogram charts are beneficial for visualizing the distribution of a single numerical variable. In this scenario, utilizing a Histogram chart allowed me to portray the distribution of app ratings from the Play Store data, providing a clear representation of the frequency of various rating levels assigned by users."
      ],
      "metadata": {
        "id": "5aaW0BYyYklI"
      }
    },
    {
      "cell_type": "markdown",
      "source": [
        "##### 2. What is/are the insight(s) found from the chart?"
      ],
      "metadata": {
        "id": "ijmpgYnKYklI"
      }
    },
    {
      "cell_type": "markdown",
      "source": [
        "Overall sentiment: The majority of users are satisfied with the apps, as evidenced by the high concentration of positive ratings.\n",
        "\n",
        "Exceptional apps: A notable fraction of users demonstrates high enthusiasm for the apps, as evidenced by the concentration observed between ratings 4 and 5.\n",
        "\n",
        "Areas for improvement: There is some room for improvement, as evidenced by the presence of lower ratings. By analyzing the negative reviews, developers can identify specific areas where the apps can be enhanced."
      ],
      "metadata": {
        "id": "PSx9atu2YklI"
      }
    },
    {
      "cell_type": "markdown",
      "source": [
        "##### 3. Will the gained insights help creating a positive business impact?\n",
        "Are there any insights that lead to negative growth? Justify with specific reason."
      ],
      "metadata": {
        "id": "-JiQyfWJYklI"
      }
    },
    {
      "cell_type": "markdown",
      "source": [
        "###Positive Business Impact:\n",
        "\n",
        "1. **Overall Positive Sentiment:**\n",
        "   - **Potential Positive Impact:** The concentration of positive ratings suggests that the majority of users are satisfied with the apps. This positive sentiment can contribute to user retention, positive word-of-mouth, and potentially attract new users.\n",
        "\n",
        "2. **Exceptional Apps and User Enthusiasm:**\n",
        "   - **Potential Positive Impact:** The presence of a notable fraction of highly positive ratings indicates that some users are exceptionally enthusiastic about the apps. This could translate into a dedicated user base, potential advocates for the apps, and positive reviews that can enhance the apps' reputation.\n",
        "\n",
        "3. **Areas for Improvement:**\n",
        "   - **Positive Business Impact Opportunity:** Identifying areas for improvement, as indicated by lower ratings, presents an opportunity for positive business impact. By addressing specific concerns highlighted in negative reviews, developers can enhance the user experience, potentially leading to increased user satisfaction, better app reviews, and improved app performance.\n",
        "\n",
        "###Negative Growth Consideration:\n",
        "While the insights provide opportunities for positive impact, it's essential to consider the potential negative growth factors:\n",
        "\n",
        "- **User Dissatisfaction:** The presence of lower ratings suggests that there are users who are not fully satisfied with the apps. If these concerns are not addressed promptly, it could lead to negative word-of-mouth, decreased user retention, and a potential decline in the apps' popularity.\n",
        "\n",
        "- **Competitive Landscape:** If issues identified in the lower ratings are not addressed, it could impact the apps' competitiveness in the market. Users have various alternatives, and negative feedback might drive them towards competing apps that better meet their needs."
      ],
      "metadata": {
        "id": "BcBbebzrYklV"
      }
    },
    {
      "cell_type": "markdown",
      "source": [
        "#### Chart - 3"
      ],
      "metadata": {
        "id": "EM7whBJCYoAo"
      }
    },
    {
      "cell_type": "code",
      "source": [
        "# Chart - 3 visualization code\n",
        "# Distribution of App Type: Free or Paid\n",
        "\n",
        "# Get the counts of each app type (Free or Paid) from the 'Type' column\n",
        "apps_type = df_apps['Type'].value_counts()\n",
        "\n",
        "# Create a new figure for the pie chart with a specified size of 8x8 inches\n",
        "plt.figure(figsize=(8, 8))\n",
        "\n",
        "# Plot a pie chart with the following parameters:\n",
        "plt.pie(apps_type, labels=apps_type.index, explode=(0, 0.1), autopct='%1.1f%%', colors=sns.color_palette(\"Paired\"))\n",
        "\n",
        "# Set the title of the pie chart with a font size of 20\n",
        "plt.title('Distribution of Paid and Free Apps', size=20)\n",
        "\n",
        "# Display the pie chart\n",
        "plt.show()\n"
      ],
      "metadata": {
        "id": "t6GMdE67YoAp"
      },
      "execution_count": null,
      "outputs": []
    },
    {
      "cell_type": "markdown",
      "source": [
        "##### 1. Why did you pick the specific chart?"
      ],
      "metadata": {
        "id": "fge-S5ZAYoAp"
      }
    },
    {
      "cell_type": "markdown",
      "source": [
        "A pie chart visually conveys percentage distribution within a dataset, making it ideal for illustrating part-to-whole relationships. In this case, I utilized a pie chart to efficiently communicate the relative proportions of 'Free' and 'Paid' categories in the 'Type' column."
      ],
      "metadata": {
        "id": "5dBItgRVYoAp"
      }
    },
    {
      "cell_type": "markdown",
      "source": [
        "##### 2. What is/are the insight(s) found from the chart?"
      ],
      "metadata": {
        "id": "85gYPyotYoAp"
      }
    },
    {
      "cell_type": "markdown",
      "source": [
        "The larger slice of the pie chart represents the free apps, with 92.3% of the total. The smaller slice representing paid apps, with 7.7% of the total. This indicates that the vast majority of apps on the Google Play Store are free to download and use."
      ],
      "metadata": {
        "id": "4jstXR6OYoAp"
      }
    },
    {
      "cell_type": "markdown",
      "source": [
        "##### 3. Will the gained insights help creating a positive business impact?\n",
        "Are there any insights that lead to negative growth? Justify with specific reason."
      ],
      "metadata": {
        "id": "RoGjAbkUYoAp"
      }
    },
    {
      "cell_type": "markdown",
      "source": [
        "###Positive Business Impact:\n",
        "1. **Increased User Engagement:** Free apps are more likely to attract downloads and user engagement due to the absence of a cost barrier. This can result in a broader user base and heightened interaction with the app.\n",
        "\n",
        "2. **Diverse Monetization Options:** Although free, developers can explore various monetization avenues, including in-app purchases, advertising, and premium features. This flexibility allows developers to generate revenue through different channels.\n",
        "\n",
        "###Negative Growth Consideration:\n",
        "1. **Monetization Challenges:** The dominance of free apps may pose challenges for developers seeking direct revenue through upfront payments. Monetizing free apps effectively requires thoughtful strategies, and some developers may find it challenging to strike the right balance between user satisfaction and sustainable business practices.\n",
        "\n",
        "2. **Competition and Visibility:** The sheer volume of free apps can lead to increased competition for visibility. Standing out in a crowded market becomes a critical challenge, and developers may need to invest in marketing and discoverability strategies.\n",
        "\n",
        "3. **User Experience Concerns:** Monetization through advertising must be approached carefully to avoid negatively impacting the user experience. Excessive or intrusive ads can lead to user dissatisfaction and potential abandonment of the app."
      ],
      "metadata": {
        "id": "zfJ8IqMcYoAp"
      }
    },
    {
      "cell_type": "markdown",
      "source": [
        "#### Chart - 4"
      ],
      "metadata": {
        "id": "4Of9eVA-YrdM"
      }
    },
    {
      "cell_type": "code",
      "source": [
        "# Chart - 4 Visualization Code\n",
        "# To visualize the top 10 genres with the highest number of installs\n",
        "\n",
        "# Group the data by 'Genres' and sum up the 'Installs' for each genre\n",
        "genre_install = df_apps.groupby('Genres')['Installs'].sum().reset_index()\n",
        "\n",
        "# Sort the genres by the total number of installs in descending order\n",
        "sorted_genres_install = genre_install.sort_values(by='Installs', ascending=False)\n",
        "\n",
        "# Select the top 10 genres with the highest number of installs\n",
        "top_10_genres = sorted_genres_install.head(10)\n",
        "\n",
        "# Create a figure for the bar plot with specified size\n",
        "plt.figure(figsize=(10, 5))\n",
        "\n",
        "# Create a bar plot showing the total installs for the top 10 genres\n",
        "sns.barplot(x='Genres', y='Installs', data=top_10_genres, palette='colorblind')\n",
        "\n",
        "# Rotate x-axis labels to fit them better and align them to the right\n",
        "plt.xticks(rotation=45, ha='right')\n",
        "\n",
        "# Set the title of the plot\n",
        "plt.title('Top 10 Genres by Installs', size=20)\n",
        "\n",
        "# Label the x-axis\n",
        "plt.xlabel('App Genres', size=15)\n",
        "\n",
        "# Label the y-axis\n",
        "plt.ylabel('Total Installs', size=15)\n",
        "\n",
        "# Display the plot\n",
        "plt.show()\n"
      ],
      "metadata": {
        "id": "irlUoxc8YrdO"
      },
      "execution_count": null,
      "outputs": []
    },
    {
      "cell_type": "markdown",
      "source": [
        "##### 1. Why did you pick the specific chart?"
      ],
      "metadata": {
        "id": "iky9q4vBYrdO"
      }
    },
    {
      "cell_type": "markdown",
      "source": [
        "Bar charts visually display the occurrence frequency of values across various levels of a categorical or nominal variable. I have chosen to use a bar chart to pinpoint the top 10 genres of apps by the number of installations they have."
      ],
      "metadata": {
        "id": "aJRCwT6DYrdO"
      }
    },
    {
      "cell_type": "markdown",
      "source": [
        "##### 2. What is/are the insight(s) found from the chart?"
      ],
      "metadata": {
        "id": "F6T5p64dYrdO"
      }
    },
    {
      "cell_type": "markdown",
      "source": [
        "- Tools apps are the most popular genre. This is likely due to the increasing reliance on smartphones and tablets for work and productivity.\n",
        "\n",
        "- Action apps are the second most popular genre. Action games are typically fast-paced and exciting, and they appeal to a wide range of users.\n",
        "\n",
        "- Photography apps are the third most popular genre. This is likely due to the increasing popularity of smartphone photography.\n",
        "\n",
        "- Entertainment apps are the fourth most popular genre. Entertainment apps include various streaming services as well as social media apps.\n",
        "\n",
        "- Communication apps are the fifth most popular genre. Communication apps include messaging apps and video conferencing apps."
      ],
      "metadata": {
        "id": "Xx8WAJvtYrdO"
      }
    },
    {
      "cell_type": "markdown",
      "source": [
        "##### 3. Will the gained insights help creating a positive business impact?\n",
        "Are there any insights that lead to negative growth? Justify with specific reason."
      ],
      "metadata": {
        "id": "y-Ehk30pYrdP"
      }
    },
    {
      "cell_type": "markdown",
      "source": [
        "###Positive Business Impact:\n",
        "1. **Tools Apps Popularity:** With Tools apps being the most popular genre, businesses can capitalize on this trend by developing and optimizing apps that cater to work and productivity needs. This insight suggests a demand for applications that enhance users' efficiency and organization, presenting an opportunity for businesses to create valuable and practical tools.\n",
        "\n",
        "2. **Action Apps Appeal:** The popularity of Action apps, known for their fast-paced and exciting nature, indicates a broad appeal. Developers can leverage this insight to create engaging and entertaining games, potentially attracting a wide user base. This genre's popularity suggests a demand for immersive and thrilling experiences, which can be monetized effectively.\n",
        "\n",
        "3. **Photography Apps Trend:** The increasing popularity of Photography apps aligns with the growing trend of smartphone photography. Businesses can seize this opportunity by developing innovative photography apps, offering features that enhance photo editing, organization, and sharing. This genre's popularity reflects a consumer interest in visual content creation.\n",
        "\n",
        "4. **Entertainment Apps Opportunities:** Entertainment apps, encompassing streaming services and social media apps, hold significant popularity. Businesses can explore opportunities within this genre, either by creating new content streaming services or optimizing social media platforms. This trend indicates a sustained demand for diverse entertainment options.\n",
        "\n",
        "5. **Communication Apps Importance:** The popularity of Communication apps, including messaging and video conferencing, highlights the essential role of connectivity. Businesses can focus on creating user-friendly and feature-rich communication apps, meeting the increasing demand for seamless connectivity and collaboration.\n",
        "\n",
        "###Negative Growth Consideration:\n",
        "\n",
        "1. **Competitive Challenges:** If certain genres have a saturated market with intense competition, it may be challenging for new apps to gain visibility and user traction. This could lead to negative growth for apps in those highly competitive categories.\n",
        "\n",
        "2. **Addressing Negative Reviews:** Negative sentiment in reviews or lower app ratings may indicate areas for improvement. Ignoring or failing to address these issues could result in negative user experiences, leading to decreased installs and usage.\n",
        "\n",
        "3. **Adapting to Trends:** App markets are dynamic, and user preferences can change. Failing to adapt to emerging trends or technological advancements may result in declining popularity and negative growth for apps that become outdated.\n"
      ],
      "metadata": {
        "id": "jLNxxz7MYrdP"
      }
    },
    {
      "cell_type": "markdown",
      "source": [
        "#### Chart - 5"
      ],
      "metadata": {
        "id": "bamQiAODYuh1"
      }
    },
    {
      "cell_type": "code",
      "source": [
        "# Chart - 5 Visualization Code\n",
        "# Visualizing Content Ratings by Total Number of Installs\n",
        "\n",
        "# Group the data by 'Content Rating' and sum up the 'Installs' for each content rating\n",
        "content_rating_install = df_apps.groupby('Content Rating')['Installs'].sum().reset_index()\n",
        "\n",
        "# Sort the content ratings by the total number of installs in descending order\n",
        "sorted_content_rating = content_rating_install.sort_values(by='Installs', ascending=False)\n",
        "\n",
        "# Set up the figure size for the plot\n",
        "plt.figure(figsize=(10, 5))\n",
        "\n",
        "# Create a bar plot showing the total installs for each content rating\n",
        "sns.barplot(x='Installs', y='Content Rating', data=sorted_content_rating, palette='colorblind')\n",
        "\n",
        "# Set the title of the plot and labels for x and y axis\n",
        "plt.title('Content Ratings by Installs', size=20)\n",
        "plt.xlabel('Total Installs', size=15)\n",
        "plt.ylabel('Content Ratings', size=15)\n",
        "\n",
        "# Display the plot\n",
        "plt.show()\n"
      ],
      "metadata": {
        "id": "TIJwrbroYuh3"
      },
      "execution_count": null,
      "outputs": []
    },
    {
      "cell_type": "markdown",
      "source": [
        "##### 1. Why did you pick the specific chart?"
      ],
      "metadata": {
        "id": "QHF8YVU7Yuh3"
      }
    },
    {
      "cell_type": "markdown",
      "source": [
        "Bar charts serve as a visual tool to effectively represent and compare data across distinct categories. Utilizing bars of varying lengths, these charts visually convey the values associated with each category, facilitating the observation of differences and similarities. Hence, I opted for a bar chart to analyze the variations in content ratings based on installations."
      ],
      "metadata": {
        "id": "dcxuIMRPYuh3"
      }
    },
    {
      "cell_type": "markdown",
      "source": [
        "##### 2. What is/are the insight(s) found from the chart?"
      ],
      "metadata": {
        "id": "GwzvFGzlYuh3"
      }
    },
    {
      "cell_type": "markdown",
      "source": [
        "- The categories **Everyone** and **Teen** stand out with the highest number of installs, indicating preferences for apps suitable for all ages or users aged 13 and above. These categories encompass apps with minimal or mild content, including educational, entertainment, or social apps.\n",
        "\n",
        "- The **Everyone 10+** category follows with the third-highest installs, suggesting a preference for apps suitable for users aged 10 and above. Such apps may contain more moderate content, such as fantasy or science fiction.\n",
        "\n",
        "- The **Mature 17+** and **Adults only 18+** categories exhibit significantly fewer installs. This implies a limited preference for apps tailored to users aged 17 or older or 18 and older, which may feature intense or graphic content like violence, sexual content, drug use, or gambling.\n",
        "\n",
        "- The **Unrated** category records the fewest installs, suggesting minimal interest in apps lacking official ratings. These apps may have unknown or variable content, potentially unsuitable for some users.\n"
      ],
      "metadata": {
        "id": "uyqkiB8YYuh3"
      }
    },
    {
      "cell_type": "markdown",
      "source": [
        "##### 3. Will the gained insights help creating a positive business impact?\n",
        "Are there any insights that lead to negative growth? Justify with specific reason."
      ],
      "metadata": {
        "id": "qYpmQ266Yuh3"
      }
    },
    {
      "cell_type": "markdown",
      "source": [
        "###Positive Business Impact:\n",
        "\n",
        "- The **Everyone** and **Teen** categories exhibit the highest number of installs, suggesting a positive reception and indicating a market demand for apps suitable for a broad audience, including educational and entertainment content.\n",
        "\n",
        "- The **Everyone 10+** category, with the third-highest installs, reflects a positive response to apps tailored for users aged 10 and above. This indicates potential business opportunities in developing content with moderate themes for this demographic.\n",
        "\n",
        "###Negative Growth Consideration:\n",
        "\n",
        "- Limited installs for the **Mature 17+** and **Adults only 18+** categories suggest a potential negative impact. The lower preference for apps with intense or graphic content for users aged 17 or older may indicate a narrower market, prompting consideration before heavy investment in such content development.\n",
        "\n",
        "- The **Unrated** category, recording the fewest installs, highlights user reluctance towards apps lacking official ratings. This hesitation could be attributed to uncertainties about the app's content, posing a challenge for positive user engagement and potential business growth."
      ],
      "metadata": {
        "id": "_WtzZ_hCYuh4"
      }
    },
    {
      "cell_type": "markdown",
      "source": [
        "#### Chart - 6"
      ],
      "metadata": {
        "id": "OH-pJp9IphqM"
      }
    },
    {
      "cell_type": "code",
      "source": [
        "# Chart - 6 visualization code\n",
        "# Size Groups by Installs\n",
        "\n",
        "# Define the function to group app sizes\n",
        "def size_groups(value):\n",
        "    try:\n",
        "        if value < 20:\n",
        "            return 'Below 20'\n",
        "        elif value >= 20 and value <= 40:\n",
        "            return '20-40'\n",
        "        elif value > 40 and value <= 60:\n",
        "            return '40-60'\n",
        "        elif value > 60 and value <= 80:\n",
        "            return '60-80'\n",
        "        elif value > 80 and value <= 100:\n",
        "            return '80-100'\n",
        "        else:\n",
        "            return 'Above 100'\n",
        "    except:\n",
        "        return value\n",
        "\n",
        "# Apps with size 'Varies with device' have dynamic sizes\n",
        "# that are not explicitly stated, making it challenging to categorize them accurately.\n",
        "# Exclude rows where size is 'Varies with device'\n",
        "df_filtered_size = df_apps[df_apps['Size'] != 'Varies with device']\n",
        "\n",
        "# Apply the size_groups function to create a new 'Size Group' column\n",
        "df_filtered_size['Size Group'] = df_filtered_size['Size'].apply(size_groups)\n",
        "\n",
        "# Group by Size Group, summing the installs for each size group\n",
        "size_group_installs = df_filtered_size.groupby('Size Group')['Installs'].sum().reset_index()\n",
        "\n",
        "# Sort by installs in descending order\n",
        "sorted_size_group_installs = size_group_installs.sort_values(by='Installs', ascending=False)\n",
        "\n",
        "# Set up the plot\n",
        "plt.figure(figsize=(10, 5))\n",
        "sns.barplot(x='Installs', y='Size Group', data=sorted_size_group_installs, palette='pastel')\n",
        "\n",
        "# Customize the plot\n",
        "plt.title('Size Groups by Installs',size=20)\n",
        "plt.xlabel('Total Installs',size=15)\n",
        "plt.ylabel('Size Groups(MB)',size=15)\n",
        "\n",
        "# Show the plot\n",
        "plt.show()\n"
      ],
      "metadata": {
        "id": "kuRf4wtuphqN"
      },
      "execution_count": null,
      "outputs": []
    },
    {
      "cell_type": "markdown",
      "source": [
        "##### 1. Why did you pick the specific chart?"
      ],
      "metadata": {
        "id": "bbFf2-_FphqN"
      }
    },
    {
      "cell_type": "markdown",
      "source": [
        "This horizontal bar chart was selected to visualize the relationship between different size groups of apps and the total number of installs for each group on the Google Play Store. Bar charts are particularly effective for this purpose because they allow for easy comparison across categories (in this case, app size groups) by using bars of varying lengths."
      ],
      "metadata": {
        "id": "loh7H2nzphqN"
      }
    },
    {
      "cell_type": "markdown",
      "source": [
        "##### 2. What is/are the insight(s) found from the chart?"
      ],
      "metadata": {
        "id": "_ouA3fa0phqN"
      }
    },
    {
      "cell_type": "markdown",
      "source": [
        "**Insights from the Chart:**\n",
        "\n",
        "1. Dominance of Smaller Apps:\n",
        "\n",
        "The \"Below 20 MB\" size group has the highest total installs, indicating that smaller apps tend to be more popular or are installed more frequently compared to larger apps. This could be due to several factors, such as lower data usage, quicker downloads, or limited device storage on the part of users.\n",
        "\n",
        "2. Moderate Popularity for Medium-Sized Apps:\n",
        "\n",
        "The size groups \"20-40 MB\" and \"40-60 MB\" also have significant numbers of installs but are less popular than the smallest apps. These apps may offer more features or content, which could appeal to users despite their larger size.\n",
        "\n",
        "3. Lower Popularity of Larger Apps:\n",
        "\n",
        "The \"60-80 MB\" and \"80-100 MB\" size groups have noticeably fewer installs compared to the smaller size groups. This suggests that users might be more selective or hesitant to download larger apps, possibly due to concerns about storage space, data usage, or the perception that larger apps are less essential."
      ],
      "metadata": {
        "id": "VECbqPI7phqN"
      }
    },
    {
      "cell_type": "markdown",
      "source": [
        "##### 3. Will the gained insights help creating a positive business impact?\n",
        "Are there any insights that lead to negative growth? Justify with specific reason."
      ],
      "metadata": {
        "id": "Seke61FWphqN"
      }
    },
    {
      "cell_type": "markdown",
      "source": [
        "The insights gained from the chart can help create a **positive business impact** if leveraged effectively. Here’s how:\n",
        "\n",
        "### Positive Business Impact:\n",
        "1. **Optimizing App Size for Greater Adoption:**\n",
        "   - Knowing that smaller apps (\"Below 20 MB\") tend to have higher install rates, businesses can focus on optimizing their app sizes to be as small as possible. This could attract more users, particularly those with limited storage or data plans, thereby increasing the app’s reach and user base.\n",
        "\n",
        "2. **Targeted Marketing Strategies:**\n",
        "   - Understanding that medium-sized apps (\"20-40 MB\" and \"40-60 MB\") also perform well, businesses can tailor their marketing strategies to highlight the value these apps provide. For example, they can emphasize features that justify the larger size, ensuring that potential users understand the benefits of downloading a slightly bigger app.\n",
        "\n",
        "3. **User Retention and Satisfaction:**\n",
        "   - By focusing on reducing app size without compromising functionality, businesses can enhance user satisfaction. This approach can lead to better reviews, higher user retention, and more word-of-mouth referrals, contributing to sustained growth and profitability.\n",
        "\n",
        "4. **Resource Allocation:**\n",
        "   - Businesses can allocate resources more effectively by investing in optimizing smaller or medium-sized apps rather than developing large, resource-intensive apps that might not perform as well in terms of installs.\n",
        "\n",
        "### Potential Risks (Negative Impact if Not Addressed):\n",
        "- **Over-Optimization:**\n",
        "  - If a business overly focuses on minimizing app size, it might strip away essential features or degrade the user experience, which could lead to negative reviews and a drop in user retention.\n",
        "\n",
        "- **Ignoring High-Value Niche Markets:**\n",
        "  - While smaller apps are more popular in general, there may be niche markets that prefer larger apps due to specific functionalities or content offerings. Ignoring these could mean missing out on potentially lucrative segments.\n"
      ],
      "metadata": {
        "id": "DW4_bGpfphqN"
      }
    },
    {
      "cell_type": "markdown",
      "source": [
        "#### Chart - 7"
      ],
      "metadata": {
        "id": "PIIx-8_IphqN"
      }
    },
    {
      "cell_type": "code",
      "source": [
        "# Chart - 7 visualization code\n",
        "# Distribution of Ratings by Update Year\n",
        "# Extract the year from the 'Last Updated' column\n",
        "df_apps['Update Year'] = df_apps['Last Updated'].dt.year\n",
        "\n",
        "# Set up the regression plot\n",
        "plt.figure(figsize=(10, 5))\n",
        "sns.regplot(x='Update Year', y='Rating', data=df_apps, scatter_kws={'alpha':0.5}, line_kws={'color':'red'})\n",
        "\n",
        "# Customize the plot\n",
        "plt.title('Distribution of Ratings by Update Year',size=20)\n",
        "plt.xlabel('Update Year',size=15)\n",
        "plt.ylabel('Rating',size=15)\n",
        "\n",
        "# Show the plot\n",
        "plt.show()\n"
      ],
      "metadata": {
        "id": "lqAIGUfyphqO"
      },
      "execution_count": null,
      "outputs": []
    },
    {
      "cell_type": "markdown",
      "source": [
        "##### 1. Why did you pick the specific chart?"
      ],
      "metadata": {
        "id": "t27r6nlMphqO"
      }
    },
    {
      "cell_type": "markdown",
      "source": [
        "A regplot is a statistical visualization that reveals the relationship between two continuous variables through a scatter plot and a best-fit linear regression line. It helps identify trends, patterns, and the strength of the correlation between variables. I utilized regplot to explore the distribution of Ratings with respect to Update Years."
      ],
      "metadata": {
        "id": "iv6ro40sphqO"
      }
    },
    {
      "cell_type": "markdown",
      "source": [
        "##### 2. What is/are the insight(s) found from the chart?"
      ],
      "metadata": {
        "id": "r2jJGEOYphqO"
      }
    },
    {
      "cell_type": "markdown",
      "source": [
        "-  The average rating has shown an improvement, rising from approximately 3.5 in 2010 to nearly 4.5 in 2018. This indicates a general trend of increasing satisfaction among users with the product over the years.\n",
        "\n",
        "-  The red line shows that the overall trend is towards increasing ratings. This is a positive sign for the product.\n",
        "\n",
        "-  The slope of the red line is positive, which indicates that the relationship between rating and update year is positive. This means that ratings tend to increase as the update year increases."
      ],
      "metadata": {
        "id": "Po6ZPi4hphqO"
      }
    },
    {
      "cell_type": "markdown",
      "source": [
        "##### 3. Will the gained insights help creating a positive business impact?\n",
        "Are there any insights that lead to negative growth? Justify with specific reason."
      ],
      "metadata": {
        "id": "b0JNsNcRphqO"
      }
    },
    {
      "cell_type": "markdown",
      "source": [
        "###Positive Business Impact:\n",
        "1. **Increasing Average Rating:** The rise in average ratings from approximately 3.5 in 2010 to nearly 4.5 in 2018 indicates an upward trend in user satisfaction. This is a positive signal as it suggests that users are generally more content with the product over time.\n",
        "\n",
        "2. **Improvement Over Time:** The red line representing the trend shows a positive slope, indicating a consistent increase in ratings. This implies that developers are making continuous improvements, positively influencing user satisfaction.\n",
        "\n",
        "3. **Possible Explanations for Rating Increase:**\n",
        "\n",
        "  Introduction of New Features: Developers may be adding new features, enhancing the product's functionality, and providing users with more value.\n",
        "\n",
        "  Enhancements in Reliability and Usability: The product may be improving in terms of reliability and user-friendliness, contributing to a better overall experience.\n",
        "\n",
        "  Increased Popularity: A growing user base could lead to a more positive user experience, as popularity often correlates with user satisfaction.\n",
        "\n",
        "###Negative Growth Consideration:\n",
        "1. **Limited Historical Context:** While the increasing trend is positive, it's crucial to consider the context. Ratings might be influenced by various factors, and without a deeper understanding of the product's evolution or changes, solely relying on the increasing trend might be limited.\n",
        "\n",
        "2. **Potential Plateau:** Over time, achieving consistently higher ratings becomes challenging, and there might be a plateau effect. If the ratings reach a saturation point, further improvements might yield diminishing returns, potentially leading to stagnation.\n",
        "\n",
        "3. **User Base Shift:** Ratings might be influenced by changes in the user base. If the user demographic shifts or if newer users have different expectations, the historical trend may not accurately reflect the current user sentiment.\n"
      ],
      "metadata": {
        "id": "xvSq8iUTphqO"
      }
    },
    {
      "cell_type": "markdown",
      "source": [
        "#### Chart - 8"
      ],
      "metadata": {
        "id": "BZR9WyysphqO"
      }
    },
    {
      "cell_type": "code",
      "source": [
        "# Chart - 8 visualization code\n",
        "# Top 10 Categories by Average Revenue\n",
        "# Calculate Revenue for each app\n",
        "df_apps['Revenue'] = df_apps['Installs'] * df_apps['Price']\n",
        "\n",
        "# Group by Category and calculate the mean revenue, sorted in descending order\n",
        "category_revenue = df_apps.groupby('Category')['Revenue'].mean().sort_values(ascending=False)\n",
        "\n",
        "# Select the top 10 categories\n",
        "top_10_categories_revenue = category_revenue.head(10)\n",
        "\n",
        "# Set up the plot\n",
        "plt.figure(figsize=(10, 5))\n",
        "\n",
        "# Title of the plot\n",
        "plt.title('Top 10 Categories by Average Revenue',size=20)\n",
        "\n",
        "# Create a bar plot for the top 10 categories\n",
        "sns.barplot(x=top_10_categories_revenue.values, y=top_10_categories_revenue.index, palette='Set3')\n",
        "\n",
        "# Labeling the x and y axes\n",
        "plt.xlabel('Average Revenue (USD)',size=15)\n",
        "plt.ylabel('Category',size=15)\n",
        "\n",
        "# Display the plot\n",
        "plt.show()\n"
      ],
      "metadata": {
        "id": "TdPTWpAVphqO"
      },
      "execution_count": null,
      "outputs": []
    },
    {
      "cell_type": "markdown",
      "source": [
        "##### 1. Why did you pick the specific chart?"
      ],
      "metadata": {
        "id": "jj7wYXLtphqO"
      }
    },
    {
      "cell_type": "markdown",
      "source": [
        "A bar chart is a valuable visualization for comparing diverse data points, particularly when examining and contrasting data across different categories. So, I opted for a bar chart to explore the top 10 categories by average revenue."
      ],
      "metadata": {
        "id": "Ob8u6rCTphqO"
      }
    },
    {
      "cell_type": "markdown",
      "source": [
        "##### 2. What is/are the insight(s) found from the chart?"
      ],
      "metadata": {
        "id": "eZrbJ2SmphqO"
      }
    },
    {
      "cell_type": "markdown",
      "source": [
        "- The top 3 revenue-generating categories, namely Lifestyle, Finance, and Weather, indicate a willingness among users to invest in products and services associated with their personal lives and finances.\n",
        "\n",
        "- The following 3 categories in revenue ranking Game, Photography, and Family are all linked to entertainment and leisure, signaling an increasing trend of expenditure on experiences meant for enjoyment and shared moments.\n",
        "\n",
        "- Contrastingly, the Sports category records the lowest average revenue, implying a lack of popularity among users. Similarly, the Education category follows closely with the second lowest average revenue, highlighting lower profitability.\n",
        "\n",
        "- The Personalization category secures the fourth-lowest average revenue, suggesting a relatively lower level of user interest. Lastly, the Medical category ranks third lowest in average revenue, indicating potential challenges in terms of convenience or security for apps within this category."
      ],
      "metadata": {
        "id": "mZtgC_hjphqO"
      }
    },
    {
      "cell_type": "markdown",
      "source": [
        "##### 3. Will the gained insights help creating a positive business impact?\n",
        "Are there any insights that lead to negative growth? Justify with specific reason."
      ],
      "metadata": {
        "id": "rFu4xreNphqO"
      }
    },
    {
      "cell_type": "markdown",
      "source": [
        "###Positive Business Impact:\n",
        "1. **Strategic Focus on High-Revenue Categories:** Businesses can leverage the knowledge about the top revenue-generating categories like Lifestyle, Finance, and Weather to strategically focus on developing and optimizing apps within these genres. This aligns with user preferences and the willingness to invest in products associated with personal lives and finances.\n",
        "\n",
        "2. **Entertainment and Leisure Trends:** Recognizing the revenue potential in Game, Photography, and Family categories allows businesses to tap into the increasing trend of expenditure on experiences related to entertainment and leisure. Developers can create engaging and enjoyable apps within these genres to attract users and generate revenue.\n",
        "\n",
        "###Negative Growth Consideration:\n",
        "1. **Low Revenue in Sports and Education Categories:** The Sports category recording the lowest average revenue suggests a lack of popularity among users. Similarly, the Education category having the second lowest average revenue indicates lower profitability. If businesses are heavily invested in these categories, they may face challenges in generating substantial revenue. This doesn't necessarily lead to negative growth, but it does signal areas for strategic evaluation and potential adjustments.\n",
        "\n",
        "2. **Challenges in Personalization and Medical Categories:** The relatively low average revenue in the Personalization and Medical categories suggests challenges. In the Personalization category, there may be a lower level of user interest, while in the Medical category, potential issues related to convenience or security may be impacting revenue. Addressing these challenges through targeted improvements or considering alternative strategies is essential to mitigate any negative impact.\n",
        "\n"
      ],
      "metadata": {
        "id": "ey_0qi68phqO"
      }
    },
    {
      "cell_type": "markdown",
      "source": [
        "#### Chart - 9"
      ],
      "metadata": {
        "id": "YJ55k-q6phqO"
      }
    },
    {
      "cell_type": "code",
      "source": [
        "# Chart - 9 visualization code\n",
        "# Comparing the Revenue and Android Version of the Top 8 Paid Apps in the Play Store\n",
        "# Set style to 'whitegrid'\n",
        "sns.set(style='whitegrid')\n",
        "\n",
        "#Exclude apps with Android version 'Varies with device'\n",
        "top_8_paid_apps = df_apps[df_apps['Android Ver'] != 'Varies with device'].nlargest(8, 'Revenue', keep='first')\n",
        "\n",
        "# Set up the plot\n",
        "plt.figure(figsize=(10, 5))\n",
        "\n",
        "# Plotting lollipops for revenue using Seaborn scatterplot\n",
        "sns.scatterplot(x='App', y='Revenue', hue='Android Ver', data=top_8_paid_apps, palette='Dark2', s=300, zorder=2)\n",
        "\n",
        "# Plotting bars for revenue using Seaborn barplot\n",
        "sns.barplot(x='App', y='Revenue', data=top_8_paid_apps, color='darkorange', width=0.08, zorder=1)\n",
        "\n",
        "# Customize the plot\n",
        "plt.xlabel('App', size=15)\n",
        "plt.xticks(rotation=45,ha='right')\n",
        "plt.ylabel('Revenue (USD)', size=15)\n",
        "plt.title('Top Eight Paid Apps: Revenue and Android Version', size=20)\n",
        "\n",
        "# Show the plot\n",
        "plt.show()\n"
      ],
      "metadata": {
        "id": "B2aS4O1ophqO"
      },
      "execution_count": null,
      "outputs": []
    },
    {
      "cell_type": "markdown",
      "source": [
        "##### 1. Why did you pick the specific chart?"
      ],
      "metadata": {
        "id": "gCFgpxoyphqP"
      }
    },
    {
      "cell_type": "markdown",
      "source": [
        "Lollipop charts offer a visually appealing alternative to traditional bar charts. In this chart, the lollipop's colour shows the Android version, while the length represents the app's revenue. It effectively highlights the top 10 revenue-generating apps and provides insights into Android version compatibility making this visualization my preferred choice."
      ],
      "metadata": {
        "id": "TVxDimi2phqP"
      }
    },
    {
      "cell_type": "markdown",
      "source": [
        "##### 2. What is/are the insight(s) found from the chart?"
      ],
      "metadata": {
        "id": "OVtJsKN_phqQ"
      }
    },
    {
      "cell_type": "markdown",
      "source": [
        "\n",
        "1. The apps with Android versions 4.0 and above dominate the higher revenue ranks, suggesting a correlation between app compatibility with newer Android versions and revenue generation.\n",
        "\n",
        "2. Among the top 8 high revenue apps, six are designed for Android versions 4.0 and above. The exceptions are \"Grand Theft Auto: San Andreas\" (Android 3.0 and up) and \"DraStic DS Emulator\" (Android 2.3 and up), both of which are on the lower end of the revenue spectrum."
      ],
      "metadata": {
        "id": "ngGi97qjphqQ"
      }
    },
    {
      "cell_type": "markdown",
      "source": [
        "##### 3. Will the gained insights help creating a positive business impact?\n",
        "Are there any insights that lead to negative growth? Justify with specific reason."
      ],
      "metadata": {
        "id": "lssrdh5qphqQ"
      }
    },
    {
      "cell_type": "markdown",
      "source": [
        "###Positive Business Impact:\n",
        "\n",
        "1. **Targeted Development:** Knowing that apps compatible with Android versions 4.0 and above tend to generate higher revenue can guide developers in focusing their efforts on creating and optimizing apps for these versions. This targeted development approach may result in more successful and lucrative applications.\n",
        "\n",
        "2. **Market Alignment:** Aligning app development with the Android versions preferred by users can enhance market penetration and user adoption. This alignment may lead to increased downloads and, subsequently, higher revenue.\n",
        "\n",
        "###Negative Growth Consideration:\n",
        "\n",
        "1. **Compatibility Challenges:** Apps designed for older Android versions (e.g., Android 2.3 and 3.0) are associated with lower revenue. Investing resources in developing or maintaining apps for these versions may not yield significant returns, potentially leading to negative growth.\n",
        "\n",
        "2. **Revenue Discrepancy:** The notable revenue difference between apps for Android 4.0 and above versus older versions suggests a market preference for more recent Android iterations. Failing to adapt to this preference may result in negative growth as user demand shifts toward newer Android releases."
      ],
      "metadata": {
        "id": "tBpY5ekJphqQ"
      }
    },
    {
      "cell_type": "markdown",
      "source": [
        "#### Chart - 10"
      ],
      "metadata": {
        "id": "U2RJ9gkRphqQ"
      }
    },
    {
      "cell_type": "code",
      "source": [
        "# Chart - 10 visualization code\n",
        "# Sentiment counts across categories.\n",
        "# Set style to 'whitegrid'\n",
        "sns.set(style='whitegrid')\n",
        "\n",
        "# Set the figure size\n",
        "plt.figure(figsize=(14, 6))\n",
        "\n",
        "# Merging the Play Store data with the User Reviews data\n",
        "merged_df = pd.merge(df_apps, df_reviews, on='App', how='inner')\n",
        "\n",
        "# Calculating the average sentiment polarity for each app\n",
        "average_sentiment_polarity = merged_df.groupby('App')['Sentiment_Polarity'].mean()\n",
        "\n",
        "# Merging the average sentiment polarity back to the original play store dataframe\n",
        "play_store_sentiment_df = df_apps.join(average_sentiment_polarity, on='App')\n",
        "\n",
        "# Count the number of sentiments for each category\n",
        "grouped_df = merged_df.groupby(['Category', 'Sentiment']).size().unstack()\n",
        "\n",
        "sns.barplot(data=grouped_df.reset_index(), x='Category', y='Positive', color='skyblue', label='Positive')\n",
        "sns.barplot(data=grouped_df.reset_index(), x='Category', y='Negative', color='gray', bottom=grouped_df['Positive'], label='Negative')\n",
        "sns.barplot(data=grouped_df.reset_index(), x='Category', y='Neutral', color='orange', bottom=grouped_df['Positive'] + grouped_df['Negative'], label='Neutral')\n",
        "\n",
        "# Adding labels and title\n",
        "plt.xlabel('Category',size=15)\n",
        "plt.xticks(rotation=90)\n",
        "plt.ylabel('Count of Sentiments',size=15)\n",
        "plt.title('Sentiments vs Category',size=20)\n",
        "\n",
        "# Adding legend\n",
        "plt.legend(title='Sentiment')\n",
        "\n",
        "# Displaying the plot\n",
        "plt.show()\n"
      ],
      "metadata": {
        "id": "GM7a4YP4phqQ"
      },
      "execution_count": null,
      "outputs": []
    },
    {
      "cell_type": "markdown",
      "source": [
        "##### 1. Why did you pick the specific chart?"
      ],
      "metadata": {
        "id": "1M8mcRywphqQ"
      }
    },
    {
      "cell_type": "markdown",
      "source": [
        "Stacked bar charts are useful when we want to compare the composition of different components that contribute to a whole. Each bar is divided into sub-bars, representing levels of the second categorical variable, offering a clear depiction of contributions to the total. So, I used it to display sentiment counts across categories."
      ],
      "metadata": {
        "id": "8agQvks0phqQ"
      }
    },
    {
      "cell_type": "markdown",
      "source": [
        "##### 2. What is/are the insight(s) found from the chart?"
      ],
      "metadata": {
        "id": "tgIPom80phqQ"
      }
    },
    {
      "cell_type": "markdown",
      "source": [
        "Top 5 categories with the highest positive sentiments:\n",
        "\n",
        "- GAME\n",
        "- FAMILY\n",
        "- HEALTH_AND_FITNESS\n",
        "- TRAVEL_AND_LOCAL\n",
        "- DATING\n",
        "\n",
        "Top 5 categories with the highest negative sentiments:\n",
        "- GAME\n",
        "- FAMILY\n",
        "- TRAVEL_AND_LOCAL\n",
        "- DATING\n",
        "- SPORTS\n",
        "\n",
        "The stacked bar chart reveals a complex interplay of positive and negative sentiments across different categories. While people express positive sentiments towards categories like games, family, health and fitness, travel and local, and dating, there is also a notable presence of negative sentiment associated with most of these same categories."
      ],
      "metadata": {
        "id": "Qp13pnNzphqQ"
      }
    },
    {
      "cell_type": "markdown",
      "source": [
        "##### 3. Will the gained insights help creating a positive business impact?\n",
        "Are there any insights that lead to negative growth? Justify with specific reason."
      ],
      "metadata": {
        "id": "JMzcOPDDphqR"
      }
    },
    {
      "cell_type": "markdown",
      "source": [
        "###Positive Business Impact:\n",
        "1. **Mixed Sentiments Across Top Categories:**\n",
        "\n",
        "  The presence of both positive and negative sentiments within the same categories (GAME, FAMILY, TRAVEL_AND_LOCAL, DATING) suggests a nuanced user experience. Users seem to have mixed feelings and varied interactions within these categories.\n",
        "\n",
        "2. **Positive Exclusivity in HEALTH_AND_FITNESS:**\n",
        "\n",
        "  HEALTH_AND_FITNESS stands out for exclusively having positive sentiments, indicating a notably favorable perception among users. This category appears to provide positive experiences with very less negative sentiments.\n",
        "\n",
        "###Negative Growth Consideration:\n",
        "\n",
        "1. **Addressing Negative Sentiments:**\n",
        "\n",
        "  Negative sentiments within the same categories suggest potential challenges or dissatisfaction among users. Ignoring or neglecting these negative sentiments may lead to negative growth, impacting user retention and brand reputation.\n",
        "\n",
        "2. **Mitigating Challenges in SPORTS:**\n",
        "\n",
        "  Given the high negative sentiments in the SPORTS category, businesses should conduct a detailed analysis to understand and address the challenges. Proactive measures to improve user experiences in this category are essential to preventing negative growth."
      ],
      "metadata": {
        "id": "R4Ka1PC2phqR"
      }
    },
    {
      "cell_type": "markdown",
      "source": [
        "#### Chart - 11"
      ],
      "metadata": {
        "id": "x-EpHcCOp1ci"
      }
    },
    {
      "cell_type": "code",
      "source": [
        "# Chart - 11 visualization code\n",
        "# Progression of update counts and the distribution of sentiment counts over time\n",
        "# Group by 'Update Year' and count the number of updates\n",
        "update_counts = merged_df.groupby(\"Update Year\")[\"App\"].count()\n",
        "\n",
        "# Group by 'Update Year' and 'Sentiment' and count occurrences\n",
        "sentiment_counts = merged_df.groupby(['Update Year', 'Sentiment']).size().unstack()\n",
        "\n",
        "# Plotting\n",
        "plt.figure(figsize=(8, 8))\n",
        "\n",
        "# Plotting the number of updates received\n",
        "plt.subplot(2, 1, 1)\n",
        "plt.plot(update_counts.index, update_counts, label='Number of Updates', marker='o', color='gray')\n",
        "plt.ylabel('Number of Updates', size=15)\n",
        "plt.title('Number of Updates and Sentiments over Update Years', size=15)\n",
        "plt.legend()\n",
        "\n",
        "# Plotting sentiments\n",
        "plt.subplot(2, 1, 2)\n",
        "plt.plot(sentiment_counts.index, sentiment_counts['Positive'], label='Positive', marker='o')\n",
        "plt.plot(sentiment_counts.index, sentiment_counts['Negative'], label='Negative', marker='o')\n",
        "plt.plot(sentiment_counts.index, sentiment_counts['Neutral'], label='Neutral', marker='o')\n",
        "plt.xlabel('Update Year', size=15)\n",
        "plt.ylabel('Number of Sentiments', size=15)\n",
        "plt.legend()\n",
        "\n",
        "# Adjust layout for better readability\n",
        "plt.tight_layout()\n",
        "\n",
        "# Show the plot\n",
        "plt.show()\n"
      ],
      "metadata": {
        "id": "mAQTIvtqp1cj"
      },
      "execution_count": null,
      "outputs": []
    },
    {
      "cell_type": "markdown",
      "source": [
        "##### 1. Why did you pick the specific chart?"
      ],
      "metadata": {
        "id": "X_VqEhTip1ck"
      }
    },
    {
      "cell_type": "markdown",
      "source": [
        "Line charts are an effective way to present data in a sequential manner, especially over time. In this case, I used line charts to illustrate the progression of update counts and the distribution of sentiment counts over time. The purpose was to investigate whether there is any correlation between these two sets of data."
      ],
      "metadata": {
        "id": "-vsMzt_np1ck"
      }
    },
    {
      "cell_type": "markdown",
      "source": [
        "##### 2. What is/are the insight(s) found from the chart?"
      ],
      "metadata": {
        "id": "8zGJKyg5p1ck"
      }
    },
    {
      "cell_type": "markdown",
      "source": [
        "- There is a general trend of increasing positive sentiments over time. This suggests that people are generally becoming more satisfied with the updates they are receiving.\n",
        "\n",
        "- The number of updates is increasing over time. This suggests that the developers are releasing new updates more frequently.\n",
        "\n",
        "- The number of negative sentiments is relatively stable. This suggests that people are generally not very unhappy with the updates they are receiving."
      ],
      "metadata": {
        "id": "ZYdMsrqVp1ck"
      }
    },
    {
      "cell_type": "markdown",
      "source": [
        "##### 3. Will the gained insights help creating a positive business impact?\n",
        "Are there any insights that lead to negative growth? Justify with specific reason."
      ],
      "metadata": {
        "id": "PVzmfK_Ep1ck"
      }
    },
    {
      "cell_type": "markdown",
      "source": [
        "###Positive Business Impact:\n",
        "\n",
        "- **Increasing Positive Sentiments Over Time:**\n",
        "  Positive sentiments trending upward over time indicates growing satisfaction among users. This is a positive signal for the business, as satisfied customers are more likely to stay engaged, recommend the product to others, and contribute positively to the brand image.\n",
        "\n",
        "- **Increasing Number of Updates:**\n",
        "  The rising number of updates implies that developers are actively working on improving the product and addressing user needs. This can have a positive impact on user engagement and loyalty, as users appreciate continuous improvement and new features.\n",
        "\n",
        "- **Stable Negative Sentiments:**\n",
        "  The stability of negative sentiments suggests that, in general, users are not significantly dissatisfied with the updates. While some negative sentiments may be inevitable, the fact that they are stable indicates that any issues are not escalating. This stability can be seen as a positive aspect, as it implies that negative feedback is manageable and not worsening.\n",
        "\n",
        "###Negative Growth Consideration:\n",
        "- **Continuously Monitor Negative Feedback:**\n",
        "  Regularly monitoring negative sentiments and feedback can help identify specific areas for improvement. Even if negative sentiments are stable, addressing specific concerns can lead to enhanced customer satisfaction.\n",
        "\n",
        "- **Engage with Users:**\n",
        "  Proactively engaging with users to understand their concerns and suggestions can provide valuable insights. Addressing user feedback and concerns demonstrates a commitment to customer satisfaction and can contribute to positive growth.\n",
        "\n",
        "- **Competitor Analysis:**\n",
        "  Assessing competitor products and user feedback can provide a comparative perspective. Understanding what competitors are doing well and areas where they face challenges can help in refining the business strategy.\n",
        "\n"
      ],
      "metadata": {
        "id": "druuKYZpp1ck"
      }
    },
    {
      "cell_type": "markdown",
      "source": [
        "#### Chart - 12"
      ],
      "metadata": {
        "id": "n3dbpmDWp1ck"
      }
    },
    {
      "cell_type": "code",
      "source": [
        "# Chart - 12 visualization code# Set up the plot\n",
        "plt.figure(figsize=(10, 5))\n",
        "\n",
        "# Create a scatter plot using hue for installs and size for sentiment polarity\n",
        "scatter = sns.scatterplot( x='Rating', y='Sentiment_Polarity',  size='Installs',  hue='Installs',  data=play_store_sentiment_df, sizes=(50, 200), palette='viridis', edgecolor='white', legend=True)\n",
        "\n",
        "# Customize the legend for bubble size (Installs)\n",
        "scatter.legend(loc='upper left', title='Installs', bbox_to_anchor=(1, 1))\n",
        "\n",
        "# Customize the plot\n",
        "plt.title('Sentiment Polarity by Rating and Installs', size=18, fontweight='bold')\n",
        "plt.xlabel('Rating', size=14)\n",
        "plt.ylabel('Average Sentiment Polarity', size=14)\n",
        "\n",
        "# Show gridlines for better readability\n",
        "plt.grid(True, linestyle='--', alpha=0.7)\n",
        "\n",
        "# Show the plot\n",
        "plt.tight_layout()\n",
        "plt.show()\n"
      ],
      "metadata": {
        "id": "bwevp1tKp1ck"
      },
      "execution_count": null,
      "outputs": []
    },
    {
      "cell_type": "markdown",
      "source": [
        "##### 1. Why did you pick the specific chart?"
      ],
      "metadata": {
        "id": "ylSl6qgtp1ck"
      }
    },
    {
      "cell_type": "markdown",
      "source": [
        "A bubble chart visually represents data points as bubbles, it's an extension of a scatter plot that uses the size of the data points to represent a third dimension of data, making it ideal for illustrating the relationships among three variables. So, I used it to explore the connections between average sentiment polarity, app rating, and the number of installs."
      ],
      "metadata": {
        "id": "m2xqNkiQp1ck"
      }
    },
    {
      "cell_type": "markdown",
      "source": [
        "##### 2. What is/are the insight(s) found from the chart?"
      ],
      "metadata": {
        "id": "ZWILFDl5p1ck"
      }
    },
    {
      "cell_type": "markdown",
      "source": [
        "\n",
        "1. **Apps with higher ratings tend to have higher average sentiment polarity:** This correlation is logical, as users are more inclined to leave positive reviews for apps they enjoy using.\n",
        "\n",
        "2. **Niche Apps with High Sentiment Polarity:**\n",
        "Some apps exhibit high average sentiment polarity despite having relatively low install counts. This indicates the presence of niche apps that are deeply cherished by their user base, even though they may not enjoy widespread popularity.\n",
        "\n",
        "3. **Popularity vs. Sentiment Polarity Discrepancy:**\n",
        "The large bubbles representing the most installed apps generally show lower average sentiment polarity. This implies that widespread popularity doesn't consistently align with positive user sentiment.Answer Here"
      ],
      "metadata": {
        "id": "x-lUsV2mp1ck"
      }
    },
    {
      "cell_type": "markdown",
      "source": [
        "##### 3. Will the gained insights help creating a positive business impact?\n",
        "Are there any insights that lead to negative growth? Justify with specific reason."
      ],
      "metadata": {
        "id": "M7G43BXep1ck"
      }
    },
    {
      "cell_type": "markdown",
      "source": [
        "###Positive Business Impact:\n",
        "- **Identifying popular apps with high sentiment:** Focusing marketing efforts towards popular apps with high sentiment polarity can further boost their popularity and attract new users.\n",
        "\n",
        "- **Promoting niche apps with high sentiment:** Promoting niche apps with high sentiment polarity can help them reach their target audience and achieve sustainable growth.\n",
        "\n",
        "- **Understanding user sentiment variations:** By analyzing how sentiment polarity varies across different app features and user segments, developers can identify areas for improvement and implement changes to increase user satisfaction.\n",
        "\n",
        "- **Prioritizing feedback based on popularity and sentiment:** Insights from the chart can guide developers in prioritizing user feedback based on both app popularity and user sentiment, ensuring resources are allocated effectively.\n",
        "\n",
        "###Negative Growth Consideration:\n",
        "- **Focusing solely on popular apps:** Focusing solely on promoting popular apps might neglect niche apps with high user satisfaction, potentially missing out on valuable market segments.\n",
        "\n",
        "- **Misinterpreting sentiment polarity:** Taking average sentiment polarity at face value might lead to overlooking important aspects of user feedback. A deeper analysis of individual reviews is necessary to understand specific user concerns.\n",
        "\n",
        "- **Ignoring install count trends:** Ignoring the relationship between install count and sentiment polarity might result in neglecting potential issues with popular apps, leading to user churn and dissatisfaction."
      ],
      "metadata": {
        "id": "5wwDJXsLp1cl"
      }
    },
    {
      "cell_type": "markdown",
      "source": [
        "#### Chart - 13"
      ],
      "metadata": {
        "id": "Ag9LCva-p1cl"
      }
    },
    {
      "cell_type": "code",
      "source": [
        "# Chart - 13 visualization code\n",
        "# Relationship between Sentiment Subjectivity and Sentiment Polarity\n",
        "# Set the size of the figure\n",
        "plt.figure(figsize=(12, 6))\n",
        "\n",
        "# Create a scatter plot using seaborn\n",
        "sns.scatterplot(data=merged_df, x='Sentiment_Subjectivity', y='Sentiment_Polarity', hue='Sentiment', palette='Set2')\n",
        "\n",
        "# Set labels for the x and y axes\n",
        "plt.xlabel('Sentiment Subjectivity', size=15)\n",
        "plt.ylabel('Sentiment Polarity', size=15)\n",
        "\n",
        "# Set the title of the plot\n",
        "plt.title('Relationship between Sentiment Subjectivity and Sentiment Polarity', size=15)\n",
        "\n",
        "# Display the plot\n",
        "plt.show()\n"
      ],
      "metadata": {
        "id": "EUfxeq9-p1cl"
      },
      "execution_count": null,
      "outputs": []
    },
    {
      "cell_type": "markdown",
      "source": [
        "##### 1. Why did you pick the specific chart?"
      ],
      "metadata": {
        "id": "E6MkPsBcp1cl"
      }
    },
    {
      "cell_type": "markdown",
      "source": [
        "Scatter plots are a powerful tool for exploratory data analysis, as they allow us to quickly identify patterns and correlations in the data. By using the hue parameter, we can color-code the data points based on a third variable, making it easier to identify patterns and correlations between the variables. So, I used a scatter plot to identify the patterns between Sentiment Subjectivity and Sentiment Polarity with the Sentiment variable represented by hue."
      ],
      "metadata": {
        "id": "V22bRsFWp1cl"
      }
    },
    {
      "cell_type": "markdown",
      "source": [
        "##### 2. What is/are the insight(s) found from the chart?"
      ],
      "metadata": {
        "id": "2cELzS2fp1cl"
      }
    },
    {
      "cell_type": "markdown",
      "source": [
        "The scatter plot of Sentiment Polarity and Sentiment Subjectivity shows a moderate positive correlation between the two variables. This means that, in general, as sentiment polarity increases, sentiment subjectivity tends to increase as well. However, the relationship is not very strong. This suggests that there is a tendency for people to express their opinions more strongly when they are feeling positive than when they are feeling negative."
      ],
      "metadata": {
        "id": "ozQPc2_Ip1cl"
      }
    },
    {
      "cell_type": "markdown",
      "source": [
        "##### 3. Will the gained insights help creating a positive business impact?\n",
        "Are there any insights that lead to negative growth? Justify with specific reason."
      ],
      "metadata": {
        "id": "3MPXvC8up1cl"
      }
    },
    {
      "cell_type": "markdown",
      "source": [
        "###Positive Business Impact:\n",
        "- **Targeted Marketing:** Understanding that positive sentiments are linked with increased subjectivity, businesses can tailor marketing messages and campaigns to resonate with the emotional and expressive aspects of their satisfied customers.\n",
        "\n",
        "- **Enhanced Customer Engagement:** Recognizing the correlation, businesses can focus on creating platforms for customers to share their positive experiences in a more detailed and expressive manner. This could include encouraging reviews, testimonials, or social media interactions that capture the enthusiasm of satisfied customers.\n",
        "\n",
        "- **Product/Service Improvements:** Analyzing the correlation might lead to insights into what aspects of products or services generate strong positive sentiments. Businesses can use this information to prioritize and refine features that contribute to customer satisfaction.\n",
        "\n",
        "###Negative Growth Consideration:\n",
        "- **Overreliance on Subjective Opinions:** Businesses should not solely rely on subjective opinions to drive decisions, as they may not reflect broader customer sentiment or objective performance metrics.\n",
        "\n",
        "- **Misinterpretation of Feedback:** Strong expressions of negative sentiment may not always be indicative of a widespread issue. Careful analysis and context-specific interpretation are crucial.\n",
        "\n",
        "- **Potential for Bias:** Subjective opinions may be influenced by individual biases, personal experiences, and external factors, potentially leading to inaccurate assessments of overall customer sentiment."
      ],
      "metadata": {
        "id": "GL8l1tdLp1cl"
      }
    },
    {
      "cell_type": "markdown",
      "source": [
        "#### Chart - 14 - Correlation Heatmap"
      ],
      "metadata": {
        "id": "NC_X3p0fY2L0"
      }
    },
    {
      "cell_type": "code",
      "source": [
        "# Chart - 14 - Correlation Heatmap visualization code\n",
        "# Relationships among Rating, Reviews, Installs, Price, Sentiment_Polarity, and Sentiment_Subjectivity\n",
        "# Selecting numerical columns from the merged dataframe\n",
        "numerical_columns = merged_df[['Rating', 'Reviews', 'Installs', 'Price', 'Sentiment_Polarity', 'Sentiment_Subjectivity']]\n",
        "\n",
        "# Create a correlation matrix\n",
        "correlation_matrix = numerical_columns.corr()\n",
        "\n",
        "# Create a heatmap\n",
        "plt.figure(figsize=(10, 5))\n",
        "sns.heatmap(correlation_matrix, annot=True, cmap='rocket', fmt=\".2f\")\n",
        "plt.title('Correlation Heatmap',size=20)\n",
        "plt.show()\n"
      ],
      "metadata": {
        "id": "xyC9zolEZNRQ"
      },
      "execution_count": null,
      "outputs": []
    },
    {
      "cell_type": "markdown",
      "source": [
        "##### 1. Why did you pick the specific chart?"
      ],
      "metadata": {
        "id": "UV0SzAkaZNRQ"
      }
    },
    {
      "cell_type": "markdown",
      "source": [
        "A correlation heatmap is a powerful tool for identifying relationships between pairs of variables in a dataset. The color-coding allows us to see at a glance whether variables are positively correlated (similar movements) or negatively correlated (opposite movements). The colors in the heatmap represent the strength of the correlation, with brighter colors indicating stronger correlations and darker colors indicating weaker or no correlations. The range of correlation is from -1 to 1. So, I used a correlation heatmap to find the relationships among Rating, Reviews, Installs, Price, Sentiment_Polarity, and Sentiment_Subjectivity."
      ],
      "metadata": {
        "id": "DVPuT8LYZNRQ"
      }
    },
    {
      "cell_type": "markdown",
      "source": [
        "##### 2. What is/are the insight(s) found from the chart?"
      ],
      "metadata": {
        "id": "YPEH6qLeZNRQ"
      }
    },
    {
      "cell_type": "markdown",
      "source": [
        "- Rating has a moderate positive correlation with Reviews, Installs, and Sentiment_Polarity. This means that apps with higher ratings tend to have more reviews, more installs, and more positive sentiment in their reviews.\n",
        "Rating has a weak negative correlation with Price. This means that apps with higher ratings tend to be slightly cheaper.\n",
        "\n",
        "- Reviews has a strong positive correlation with Installs. This means that apps with more reviews tend to have more installs.\n",
        "Reviews has a weak negative correlation with Price. This means that apps with more reviews tend to be slightly cheaper.\n",
        "\n",
        "- Installs has a weak negative correlation with Price. This means that apps with more installs tend to be slightly cheaper.\n",
        "\n",
        "- Sentiment_Polarity has a moderate positive correlation with Sentiment_Subjectivity. This means that apps with more positive sentiment in their reviews tend to have slightly more subjective reviews."
      ],
      "metadata": {
        "id": "bfSqtnDqZNRR"
      }
    },
    {
      "cell_type": "markdown",
      "source": [
        "##### 3. Will the gained insights help creating a positive business impact?\n",
        "Are there any insights that lead to negative growth? Justify with specific reason."
      ],
      "metadata": {
        "id": "Zel-jJTMWG0g"
      }
    },
    {
      "cell_type": "markdown",
      "source": [
        "### Positive Business Impact:\n",
        "1. **Correlation between Installs and Reviews (0.61)**:\n",
        "   - There is a strong positive correlation between the number of installs and the number of reviews. This suggests that more popular apps (with high install counts) tend to generate more user engagement in the form of reviews.\n",
        "   - **Business Impact**: Focusing on strategies that increase installs (e.g., marketing campaigns, partnerships) could amplify user feedback through reviews, which in turn helps improve the app’s visibility and credibility.\n",
        "\n",
        "2. **Positive correlation between Rating and Sentiment Polarity (0.12)**:\n",
        "   - Apps with higher ratings tend to have slightly more positive sentiment in the reviews. Even though this correlation is weak, improving app ratings can help generate more positive reviews, reinforcing a good user experience.\n",
        "   - **Business Impact**: Encouraging users to rate the app positively through incentives, or improving app quality, could result in higher ratings, which marginally improves sentiment.\n",
        "\n",
        "### Negative Insights and Potential for Negative Growth:\n",
        "1. **Weak correlation between Price and other factors**:\n",
        "   - Price shows very weak correlations with key factors like Reviews (-0.04), Installs (-0.08), and Sentiment Polarity (0.02). This suggests that price may not be a strong driving factor for user engagement or growth.\n",
        "   - **Negative Growth Insight**: Pricing strategies may not significantly impact installs or user sentiment. Therefore, focusing too much on price adjustments may not lead to the expected business growth. A more value-driven approach (e.g., adding features or improving user experience) might be better for increasing installs and reviews.\n",
        "\n",
        "2. **Sentiment Polarity vs. Reviews (-0.06) and Installs (-0.07)**:\n",
        "   - The correlations between sentiment polarity and the number of reviews/installs are negative, though weak. This suggests that the number of installs or reviews does not necessarily improve the sentiment in user feedback.\n",
        "   - **Negative Growth Insight**: While higher installs and reviews can increase visibility, they do not guarantee improved sentiment. Poor app experiences (despite high install numbers) could lead to negative reviews, potentially harming long-term growth. This highlights the need to focus on user satisfaction and app quality to ensure that higher installs translate into positive sentiment.\n"
      ],
      "metadata": {
        "id": "OW9tCWBIWMIE"
      }
    },
    {
      "cell_type": "markdown",
      "source": [
        "#### Chart - 15 - Pair Plot"
      ],
      "metadata": {
        "id": "q29F0dvdveiT"
      }
    },
    {
      "cell_type": "code",
      "source": [
        "# Chart - 15 - Pair Plot visualization code\n",
        "# Correlations among Rating, Installs, Reviews and Price.\n",
        "# Selecting numerical columns from the merged dataframe\n",
        "included_columns = merged_df[['Rating', 'Installs', 'Reviews', 'Price', 'Type']]\n",
        "\n",
        "# Log-transform 'Installs' and 'Reviews'\n",
        "included_columns['Installs(Log)'] = np.log(included_columns['Installs'])\n",
        "included_columns['Reviews(Log)'] = np.log10(included_columns['Reviews'])\n",
        "\n",
        "# Selecting columns for pair plot\n",
        "selected_columns = included_columns[['Rating', 'Installs(Log)', 'Reviews(Log)', 'Price', 'Type']]\n",
        "\n",
        "# Create a pair plot\n",
        "p = sns.pairplot(selected_columns, hue='Type', markers=[\"o\", \"s\"], palette={\"Free\": \"blue\", \"Paid\": \"orange\"})\n",
        "p.fig.suptitle(\"Pair Plot - Rating, Installs, Reviews, Price\", x=0.5, y=1.02, fontsize=20)\n",
        "\n",
        "# Show the plot\n",
        "plt.show()\n"
      ],
      "metadata": {
        "id": "o58-TEIhveiU"
      },
      "execution_count": null,
      "outputs": []
    },
    {
      "cell_type": "markdown",
      "source": [
        "##### 1. Why did you pick the specific chart?"
      ],
      "metadata": {
        "id": "EXh0U9oCveiU"
      }
    },
    {
      "cell_type": "markdown",
      "source": [
        "Pair plots are a powerful tool for visualizing the relationships between multiple variables in a dataset. Each subplot in the grid represents a pair of variables, making it easy to identify patterns, trends, and correlations. So, I used a pair plot to explore the patterns and correlations between Rating, Installs, Reviews and Price."
      ],
      "metadata": {
        "id": "eMmPjTByveiU"
      }
    },
    {
      "cell_type": "markdown",
      "source": [
        "##### 2. What is/are the insight(s) found from the chart?"
      ],
      "metadata": {
        "id": "22aHeOlLveiV"
      }
    },
    {
      "cell_type": "markdown",
      "source": [
        "- **Rating and Installs:** There is a positive correlation between rating and installs, meaning that apps with higher ratings tend to have more installs. This is likely because users are more likely to install apps that have been positively reviewed by other users.\n",
        "\n",
        "- **Rating and Reviews:** There is also a positive correlation between rating and reviews, meaning that apps with higher ratings tend to have more reviews. This is likely because users are more likely to write reviews for apps that they enjoy using.\n",
        "\n",
        "- **Rating and Price:** There is a weak negative correlation between rating and price, meaning that apps with higher ratings tend to be slightly cheaper. This is likely because developers of high-quality apps are able to charge lower prices due to the high demand for their apps.\n",
        "\n",
        "- **Installs and Reviews:** There is a strong positive correlation between installs and reviews, meaning that apps with more installs tend to have more reviews. This is likely because users are more likely to write reviews for apps that they have used extensively.\n",
        "\n",
        "- **Installs and Price:** There is a weak negative correlation between installs and price, meaning that apps with more installs tend to be slightly cheaper. This is likely because developers of popular apps are able to charge lower prices due to the high volume of installs.\n",
        "\n"
      ],
      "metadata": {
        "id": "uPQ8RGwHveiV"
      }
    },
    {
      "cell_type": "markdown",
      "source": [
        "## **5. Solution to Business Objective**"
      ],
      "metadata": {
        "id": "JcMwzZxoAimU"
      }
    },
    {
      "cell_type": "markdown",
      "source": [
        "#### What do you suggest the client to achieve Business Objective ?\n",
        "Explain Briefly."
      ],
      "metadata": {
        "id": "8G2x9gOozGDZ"
      }
    },
    {
      "cell_type": "markdown",
      "source": [
        "###Actionable Recommendations:\n",
        "- **Strategic Development in Popular Genres:**\n",
        "  Acknowledge the popularity of certain genres, such as Tools, Action, Photography, and Entertainment.\n",
        "  Consider investing in or refining apps within these genres to align with user preferences and maximize engagement.\n",
        "\n",
        "- **Emphasize Free Apps:**\n",
        "  Free apps overwhelmingly dominate the market, indicating the significance of providing an engaging free version to attract users.\n",
        "  Given that the majority of apps are free, focus on monetization strategies that complement the free model, such as in-app purchases, ads, or premium features.\n",
        "\n",
        "- **Optimize App Size:**\n",
        "  Recognize the preference for smaller apps, as indicated by the popularity of the below 20 and 20-40 MB size groups.\n",
        "  Ensure that new app developments and updates prioritize efficiency and minimal storage requirements to align with user preferences for smaller-sized apps.\n",
        "\n",
        "- **Tailor Content Ratings:**\n",
        "  Understand the user preference for Everyone and Teen categories and ensure new apps align with these preferences.\n",
        "  Be mindful of the limited interest in Mature and Adults-only categories, adjusting content accordingly.\n",
        "\n",
        "- **Strategic Revenue Generation:**\n",
        "  Consider app development or improvements in categories that generate higher revenue, such as Lifestyle, Finance, and Weather.\n",
        "  Evaluate user preferences within lower-revenue categories to identify opportunities for enhancement.\n",
        "\n",
        "- **Compatibility with Latest Android Versions:**\n",
        "  Given the correlation between higher revenue and compatibility with newer Android versions, prioritize app development and updates for the latest versions of the Android operating system.\n",
        "\n",
        "- **User Engagement in Popular Categories:**\n",
        "  Recognize the positive sentiments associated with popular categories like Games, Family, Health and Fitness, Travel and Local, and Dating.\n",
        "  Strategically engage users through marketing, promotions, and feature enhancements in these categories.\n",
        "\n",
        "- **Continuous Improvement:**\n",
        "  Monitor the progression of update counts and user sentiments over time.\n",
        "  Respond to user feedback with timely updates to demonstrate a commitment to app improvement.\n",
        "  \n",
        "- **Focus on Positive User Sentiment:**\n",
        "  Identify the characteristics of apps with consistently positive sentiment and leverage those aspects in future app development.\n",
        "  Encourage and amplify positive user experiences through marketing and feature enhancements.\n",
        "\n",
        "- **Address Negative Feedback:**\n",
        "  Investigate apps with negative sentiment to pinpoint specific issues causing dissatisfaction.\n",
        "  Prioritize improvements in areas highlighted by negative sentiment to enhance user satisfaction and overall app performance."
      ],
      "metadata": {
        "id": "pASKb0qOza21"
      }
    },
    {
      "cell_type": "markdown",
      "source": [
        "# **Conclusion**"
      ],
      "metadata": {
        "id": "gCX9965dhzqZ"
      }
    },
    {
      "cell_type": "markdown",
      "source": [
        "This project has successfully analyzed the Play Store app dataset using Python, uncovering valuable insights into key factors for app engagement and success. The data visualizations and interpretations provide a comprehensive understanding of user sentiment, app ratings, genre preferences, content suitability, and the impact of updates.\n",
        "\n",
        "Based on these insights, I have crafted actionable recommendations for the client to optimize app performance and achieve their business objectives. I advise them to focus on fostering positive sentiment, addressing user concerns promptly, catering to user preferences like smaller apps and frequent updates, targeting specific genres and content ratings strategically, and building loyal followings in niche markets.\n",
        "\n",
        "By embracing a data-driven approach and continuously adapting to user preferences, the client can ensure long-term success in the competitive Android app market."
      ],
      "metadata": {
        "id": "Fjb1IsQkh3yE"
      }
    },
    {
      "cell_type": "markdown",
      "source": [
        "### ***Hurrah! You have successfully completed your EDA Capstone Project !!!***"
      ],
      "metadata": {
        "id": "gIfDvo9L0UH2"
      }
    },
    {
      "cell_type": "markdown",
      "source": [
        "### ***Exploratory Data Analysis (EDA) Done By: Rudreh mishra***\n",
        "### ***Email: mishrasm64@gmail.com***\n",
        "### ***Technical Document:https://docs.google.com/document/d/19dzbJeSd_Jcne1NpS3Zwa98n4VyLI4dm/edit?usp=drive_link&ouid=106955276825311176485&rtpof=true&sd=true***"
      ],
      "metadata": {
        "id": "AftuFkPDX-GJ"
      }
    }
  ]
}